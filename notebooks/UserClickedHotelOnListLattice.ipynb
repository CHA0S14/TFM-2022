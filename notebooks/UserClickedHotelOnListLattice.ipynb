{
 "cells": [
  {
   "cell_type": "markdown",
   "source": [
    "#### Importing the libs"
   ],
   "metadata": {
    "collapsed": false
   }
  },
  {
   "cell_type": "code",
   "execution_count": 24,
   "outputs": [],
   "source": [
    "import pandas as pd\n",
    "import os\n",
    "import numpy as np\n",
    "import csv\n",
    "\n",
    "import utils\n",
    "from joblib import Parallel, delayed"
   ],
   "metadata": {
    "collapsed": false,
    "pycharm": {
     "name": "#%%\n"
    }
   }
  },
  {
   "cell_type": "markdown",
   "source": [
    "#### Loading the data"
   ],
   "metadata": {
    "collapsed": false
   }
  },
  {
   "cell_type": "code",
   "execution_count": 2,
   "outputs": [],
   "source": [
    "train_data = pd.read_csv(\"./Data/train.csv\")\n",
    "metadata_data = pd.read_csv(\"./Data/item_metadata.csv\")"
   ],
   "metadata": {
    "collapsed": false,
    "pycharm": {
     "name": "#%%\n"
    }
   }
  },
  {
   "cell_type": "code",
   "execution_count": 3,
   "outputs": [
    {
     "data": {
      "text/plain": "        user_id     session_id   timestamp  step             action_type  \\\n0  00RL8Z82B2Z1  aff3928535f48  1541037460     1          search for poi   \n1  00RL8Z82B2Z1  aff3928535f48  1541037522     2  interaction item image   \n2  00RL8Z82B2Z1  aff3928535f48  1541037522     3  interaction item image   \n3  00RL8Z82B2Z1  aff3928535f48  1541037532     4  interaction item image   \n4  00RL8Z82B2Z1  aff3928535f48  1541037532     5  interaction item image   \n\n  reference platform               city  device current_filters impressions  \\\n0   Newtown       AU  Sydney, Australia  mobile             NaN         NaN   \n1    666856       AU  Sydney, Australia  mobile             NaN         NaN   \n2    666856       AU  Sydney, Australia  mobile             NaN         NaN   \n3    666856       AU  Sydney, Australia  mobile             NaN         NaN   \n4    109038       AU  Sydney, Australia  mobile             NaN         NaN   \n\n  prices  \n0    NaN  \n1    NaN  \n2    NaN  \n3    NaN  \n4    NaN  ",
      "text/html": "<div>\n<style scoped>\n    .dataframe tbody tr th:only-of-type {\n        vertical-align: middle;\n    }\n\n    .dataframe tbody tr th {\n        vertical-align: top;\n    }\n\n    .dataframe thead th {\n        text-align: right;\n    }\n</style>\n<table border=\"1\" class=\"dataframe\">\n  <thead>\n    <tr style=\"text-align: right;\">\n      <th></th>\n      <th>user_id</th>\n      <th>session_id</th>\n      <th>timestamp</th>\n      <th>step</th>\n      <th>action_type</th>\n      <th>reference</th>\n      <th>platform</th>\n      <th>city</th>\n      <th>device</th>\n      <th>current_filters</th>\n      <th>impressions</th>\n      <th>prices</th>\n    </tr>\n  </thead>\n  <tbody>\n    <tr>\n      <th>0</th>\n      <td>00RL8Z82B2Z1</td>\n      <td>aff3928535f48</td>\n      <td>1541037460</td>\n      <td>1</td>\n      <td>search for poi</td>\n      <td>Newtown</td>\n      <td>AU</td>\n      <td>Sydney, Australia</td>\n      <td>mobile</td>\n      <td>NaN</td>\n      <td>NaN</td>\n      <td>NaN</td>\n    </tr>\n    <tr>\n      <th>1</th>\n      <td>00RL8Z82B2Z1</td>\n      <td>aff3928535f48</td>\n      <td>1541037522</td>\n      <td>2</td>\n      <td>interaction item image</td>\n      <td>666856</td>\n      <td>AU</td>\n      <td>Sydney, Australia</td>\n      <td>mobile</td>\n      <td>NaN</td>\n      <td>NaN</td>\n      <td>NaN</td>\n    </tr>\n    <tr>\n      <th>2</th>\n      <td>00RL8Z82B2Z1</td>\n      <td>aff3928535f48</td>\n      <td>1541037522</td>\n      <td>3</td>\n      <td>interaction item image</td>\n      <td>666856</td>\n      <td>AU</td>\n      <td>Sydney, Australia</td>\n      <td>mobile</td>\n      <td>NaN</td>\n      <td>NaN</td>\n      <td>NaN</td>\n    </tr>\n    <tr>\n      <th>3</th>\n      <td>00RL8Z82B2Z1</td>\n      <td>aff3928535f48</td>\n      <td>1541037532</td>\n      <td>4</td>\n      <td>interaction item image</td>\n      <td>666856</td>\n      <td>AU</td>\n      <td>Sydney, Australia</td>\n      <td>mobile</td>\n      <td>NaN</td>\n      <td>NaN</td>\n      <td>NaN</td>\n    </tr>\n    <tr>\n      <th>4</th>\n      <td>00RL8Z82B2Z1</td>\n      <td>aff3928535f48</td>\n      <td>1541037532</td>\n      <td>5</td>\n      <td>interaction item image</td>\n      <td>109038</td>\n      <td>AU</td>\n      <td>Sydney, Australia</td>\n      <td>mobile</td>\n      <td>NaN</td>\n      <td>NaN</td>\n      <td>NaN</td>\n    </tr>\n  </tbody>\n</table>\n</div>"
     },
     "execution_count": 3,
     "metadata": {},
     "output_type": "execute_result"
    }
   ],
   "source": [
    "train_data.head(5)"
   ],
   "metadata": {
    "collapsed": false,
    "pycharm": {
     "name": "#%%\n"
    }
   }
  },
  {
   "cell_type": "code",
   "execution_count": 4,
   "outputs": [
    {
     "data": {
      "text/plain": "   item_id                                         properties\n0     5101  Satellite TV|Golf Course|Airport Shuttle|Cosme...\n1     5416  Satellite TV|Cosmetic Mirror|Safe (Hotel)|Tele...\n2     5834  Satellite TV|Cosmetic Mirror|Safe (Hotel)|Tele...\n3     5910  Satellite TV|Sailing|Cosmetic Mirror|Telephone...\n4     6066  Satellite TV|Sailing|Diving|Cosmetic Mirror|Sa...",
      "text/html": "<div>\n<style scoped>\n    .dataframe tbody tr th:only-of-type {\n        vertical-align: middle;\n    }\n\n    .dataframe tbody tr th {\n        vertical-align: top;\n    }\n\n    .dataframe thead th {\n        text-align: right;\n    }\n</style>\n<table border=\"1\" class=\"dataframe\">\n  <thead>\n    <tr style=\"text-align: right;\">\n      <th></th>\n      <th>item_id</th>\n      <th>properties</th>\n    </tr>\n  </thead>\n  <tbody>\n    <tr>\n      <th>0</th>\n      <td>5101</td>\n      <td>Satellite TV|Golf Course|Airport Shuttle|Cosme...</td>\n    </tr>\n    <tr>\n      <th>1</th>\n      <td>5416</td>\n      <td>Satellite TV|Cosmetic Mirror|Safe (Hotel)|Tele...</td>\n    </tr>\n    <tr>\n      <th>2</th>\n      <td>5834</td>\n      <td>Satellite TV|Cosmetic Mirror|Safe (Hotel)|Tele...</td>\n    </tr>\n    <tr>\n      <th>3</th>\n      <td>5910</td>\n      <td>Satellite TV|Sailing|Cosmetic Mirror|Telephone...</td>\n    </tr>\n    <tr>\n      <th>4</th>\n      <td>6066</td>\n      <td>Satellite TV|Sailing|Diving|Cosmetic Mirror|Sa...</td>\n    </tr>\n  </tbody>\n</table>\n</div>"
     },
     "execution_count": 4,
     "metadata": {},
     "output_type": "execute_result"
    }
   ],
   "source": [
    "metadata_data.head(5)"
   ],
   "metadata": {
    "collapsed": false,
    "pycharm": {
     "name": "#%%\n"
    }
   }
  },
  {
   "cell_type": "markdown",
   "source": [
    "### Need to tranform the metadata dataframe\n",
    "The properties attribute has a string with the elements separated with \"|\" and I want a correlation matrix between the item and all the properties"
   ],
   "metadata": {
    "collapsed": false
   }
  },
  {
   "cell_type": "markdown",
   "source": [
    "#### 1. Split the properties attribute into a list"
   ],
   "metadata": {
    "collapsed": false
   }
  },
  {
   "cell_type": "code",
   "execution_count": 5,
   "outputs": [],
   "source": [
    "metadata_data[\"properties\"] = metadata_data[\"properties\"].str.split(\"|\")"
   ],
   "metadata": {
    "collapsed": false,
    "pycharm": {
     "name": "#%%\n"
    }
   }
  },
  {
   "cell_type": "markdown",
   "source": [
    "#### 2. Process the list into columns and binary values"
   ],
   "metadata": {
    "collapsed": false
   }
  },
  {
   "cell_type": "code",
   "execution_count": 6,
   "outputs": [],
   "source": [
    "metadata_data = metadata_data.explode(\"properties\").pivot_table(\n",
    "    index=\"item_id\", columns=\"properties\", aggfunc=\"size\", fill_value=0\n",
    ").reset_index()"
   ],
   "metadata": {
    "collapsed": false,
    "pycharm": {
     "name": "#%%\n"
    }
   }
  },
  {
   "cell_type": "code",
   "execution_count": 7,
   "outputs": [
    {
     "data": {
      "text/plain": "properties  item_id  1 Star  2 Star  3 Star  4 Star  5 Star  Accessible Hotel  \\\n0              5001       0       0       0       1       0                 0   \n1              5002       0       0       0       1       0                 0   \n2              5003       0       0       0       1       0                 1   \n3              5004       0       0       0       1       0                 0   \n4              5005       0       0       1       0       0                 0   \n\nproperties  Accessible Parking  Adults Only  Air Conditioning  ...  \\\n0                            0            0                 0  ...   \n1                            0            0                 1  ...   \n2                            0            0                 1  ...   \n3                            0            0                 0  ...   \n4                            0            0                 0  ...   \n\nproperties  Terrace (Hotel)  Theme Hotel  Towels  Very Good Rating  \\\n0                         1            0       0                 0   \n1                         0            0       0                 0   \n2                         1            0       1                 1   \n3                         1            0       0                 1   \n4                         1            0       0                 1   \n\nproperties  Volleyball  Washing Machine  Water Slide  Wheelchair Accessible  \\\n0                    0                0            0                      0   \n1                    0                0            0                      0   \n2                    0                0            0                      1   \n3                    0                0            0                      1   \n4                    0                0            0                      0   \n\nproperties  WiFi (Public Areas)  WiFi (Rooms)  \n0                             1             1  \n1                             1             1  \n2                             1             1  \n3                             1             1  \n4                             0             0  \n\n[5 rows x 158 columns]",
      "text/html": "<div>\n<style scoped>\n    .dataframe tbody tr th:only-of-type {\n        vertical-align: middle;\n    }\n\n    .dataframe tbody tr th {\n        vertical-align: top;\n    }\n\n    .dataframe thead th {\n        text-align: right;\n    }\n</style>\n<table border=\"1\" class=\"dataframe\">\n  <thead>\n    <tr style=\"text-align: right;\">\n      <th>properties</th>\n      <th>item_id</th>\n      <th>1 Star</th>\n      <th>2 Star</th>\n      <th>3 Star</th>\n      <th>4 Star</th>\n      <th>5 Star</th>\n      <th>Accessible Hotel</th>\n      <th>Accessible Parking</th>\n      <th>Adults Only</th>\n      <th>Air Conditioning</th>\n      <th>...</th>\n      <th>Terrace (Hotel)</th>\n      <th>Theme Hotel</th>\n      <th>Towels</th>\n      <th>Very Good Rating</th>\n      <th>Volleyball</th>\n      <th>Washing Machine</th>\n      <th>Water Slide</th>\n      <th>Wheelchair Accessible</th>\n      <th>WiFi (Public Areas)</th>\n      <th>WiFi (Rooms)</th>\n    </tr>\n  </thead>\n  <tbody>\n    <tr>\n      <th>0</th>\n      <td>5001</td>\n      <td>0</td>\n      <td>0</td>\n      <td>0</td>\n      <td>1</td>\n      <td>0</td>\n      <td>0</td>\n      <td>0</td>\n      <td>0</td>\n      <td>0</td>\n      <td>...</td>\n      <td>1</td>\n      <td>0</td>\n      <td>0</td>\n      <td>0</td>\n      <td>0</td>\n      <td>0</td>\n      <td>0</td>\n      <td>0</td>\n      <td>1</td>\n      <td>1</td>\n    </tr>\n    <tr>\n      <th>1</th>\n      <td>5002</td>\n      <td>0</td>\n      <td>0</td>\n      <td>0</td>\n      <td>1</td>\n      <td>0</td>\n      <td>0</td>\n      <td>0</td>\n      <td>0</td>\n      <td>1</td>\n      <td>...</td>\n      <td>0</td>\n      <td>0</td>\n      <td>0</td>\n      <td>0</td>\n      <td>0</td>\n      <td>0</td>\n      <td>0</td>\n      <td>0</td>\n      <td>1</td>\n      <td>1</td>\n    </tr>\n    <tr>\n      <th>2</th>\n      <td>5003</td>\n      <td>0</td>\n      <td>0</td>\n      <td>0</td>\n      <td>1</td>\n      <td>0</td>\n      <td>1</td>\n      <td>0</td>\n      <td>0</td>\n      <td>1</td>\n      <td>...</td>\n      <td>1</td>\n      <td>0</td>\n      <td>1</td>\n      <td>1</td>\n      <td>0</td>\n      <td>0</td>\n      <td>0</td>\n      <td>1</td>\n      <td>1</td>\n      <td>1</td>\n    </tr>\n    <tr>\n      <th>3</th>\n      <td>5004</td>\n      <td>0</td>\n      <td>0</td>\n      <td>0</td>\n      <td>1</td>\n      <td>0</td>\n      <td>0</td>\n      <td>0</td>\n      <td>0</td>\n      <td>0</td>\n      <td>...</td>\n      <td>1</td>\n      <td>0</td>\n      <td>0</td>\n      <td>1</td>\n      <td>0</td>\n      <td>0</td>\n      <td>0</td>\n      <td>1</td>\n      <td>1</td>\n      <td>1</td>\n    </tr>\n    <tr>\n      <th>4</th>\n      <td>5005</td>\n      <td>0</td>\n      <td>0</td>\n      <td>1</td>\n      <td>0</td>\n      <td>0</td>\n      <td>0</td>\n      <td>0</td>\n      <td>0</td>\n      <td>0</td>\n      <td>...</td>\n      <td>1</td>\n      <td>0</td>\n      <td>0</td>\n      <td>1</td>\n      <td>0</td>\n      <td>0</td>\n      <td>0</td>\n      <td>0</td>\n      <td>0</td>\n      <td>0</td>\n    </tr>\n  </tbody>\n</table>\n<p>5 rows × 158 columns</p>\n</div>"
     },
     "execution_count": 7,
     "metadata": {},
     "output_type": "execute_result"
    }
   ],
   "source": [
    "metadata_data.head(5)"
   ],
   "metadata": {
    "collapsed": false,
    "pycharm": {
     "name": "#%%\n"
    }
   }
  },
  {
   "cell_type": "markdown",
   "source": [
    "### Get a list of hotels from the train data"
   ],
   "metadata": {
    "collapsed": false
   }
  },
  {
   "cell_type": "code",
   "execution_count": 8,
   "outputs": [
    {
     "data": {
      "text/plain": "         user_id     session_id   timestamp  step    action_type reference  \\\n15  00RL8Z82B2Z1  aff3928535f48  1541038485    16  clickout item   1257342   \n\n   platform               city  device current_filters  \\\n15       AU  Sydney, Australia  mobile             NaN   \n\n                                          impressions  \\\n15  55109|129343|54824|2297972|109014|1257342|1031...   \n\n                                               prices  \n15  162|25|150|143|101|49|118|131|18|100|101|143|5...  ",
      "text/html": "<div>\n<style scoped>\n    .dataframe tbody tr th:only-of-type {\n        vertical-align: middle;\n    }\n\n    .dataframe tbody tr th {\n        vertical-align: top;\n    }\n\n    .dataframe thead th {\n        text-align: right;\n    }\n</style>\n<table border=\"1\" class=\"dataframe\">\n  <thead>\n    <tr style=\"text-align: right;\">\n      <th></th>\n      <th>user_id</th>\n      <th>session_id</th>\n      <th>timestamp</th>\n      <th>step</th>\n      <th>action_type</th>\n      <th>reference</th>\n      <th>platform</th>\n      <th>city</th>\n      <th>device</th>\n      <th>current_filters</th>\n      <th>impressions</th>\n      <th>prices</th>\n    </tr>\n  </thead>\n  <tbody>\n    <tr>\n      <th>15</th>\n      <td>00RL8Z82B2Z1</td>\n      <td>aff3928535f48</td>\n      <td>1541038485</td>\n      <td>16</td>\n      <td>clickout item</td>\n      <td>1257342</td>\n      <td>AU</td>\n      <td>Sydney, Australia</td>\n      <td>mobile</td>\n      <td>NaN</td>\n      <td>55109|129343|54824|2297972|109014|1257342|1031...</td>\n      <td>162|25|150|143|101|49|118|131|18|100|101|143|5...</td>\n    </tr>\n  </tbody>\n</table>\n</div>"
     },
     "execution_count": 8,
     "metadata": {},
     "output_type": "execute_result"
    }
   ],
   "source": [
    "example_session = train_data[train_data['user_id'] == '00RL8Z82B2Z1'].tail(1)\n",
    "example_session"
   ],
   "metadata": {
    "collapsed": false,
    "pycharm": {
     "name": "#%%\n"
    }
   }
  },
  {
   "cell_type": "code",
   "execution_count": 9,
   "outputs": [
    {
     "data": {
      "text/plain": "15    [55109, 129343, 54824, 2297972, 109014, 125734...\nName: impressions, dtype: object"
     },
     "execution_count": 9,
     "metadata": {},
     "output_type": "execute_result"
    }
   ],
   "source": [
    "impressions = example_session[\"impressions\"].str.split(\"|\")\n",
    "impressions"
   ],
   "metadata": {
    "collapsed": false,
    "pycharm": {
     "name": "#%%\n"
    }
   }
  },
  {
   "cell_type": "code",
   "execution_count": 27,
   "outputs": [
    {
     "data": {
      "text/plain": "25"
     },
     "execution_count": 27,
     "metadata": {},
     "output_type": "execute_result"
    }
   ],
   "source": [
    "impressionsList = impressions.tolist()[0]\n",
    "intImpressionsList = [int(num) for num in impressionsList]\n",
    "len(impressionsList)"
   ],
   "metadata": {
    "collapsed": false,
    "pycharm": {
     "name": "#%%\n"
    }
   }
  },
  {
   "cell_type": "markdown",
   "source": [
    "## Search User who clicked any hotel"
   ],
   "metadata": {
    "collapsed": false,
    "pycharm": {
     "name": "#%% md\n"
    }
   }
  },
  {
   "cell_type": "code",
   "execution_count": 20,
   "outputs": [
    {
     "data": {
      "text/plain": "               user_id     session_id   timestamp  step  \\\n15        00RL8Z82B2Z1  aff3928535f48  1541038485    16   \n198476    OIPLP05G2DNX  cd70b75089786  1541219585    17   \n205163    2VT2BFH97JSO  5b7c65d248b8a  1541294748     2   \n207617    9112310YDHJ9  a1587e7118d4b  1541326844    17   \n236432    32CP913ITOZ0  835577240e392  1541473490     2   \n...                ...            ...         ...   ...   \n15808794  RZS33KEWGVPN  d3dea95ded878  1541223061     3   \n15812906  4M3IQ2JL5B7Y  ec216358ec2d2  1541329208     2   \n15866156  0G22RO7KVWI6  470eb5337c42f  1541161304    10   \n15929499  OWSKI3H77PFS  22759f347ddbf  1541464976     3   \n15929500  OWSKI3H77PFS  22759f347ddbf  1541465016     4   \n\n                     action_type reference platform               city  \\\n15                 clickout item   1257342       AU  Sydney, Australia   \n198476    interaction item image  10077318       AU  Sydney, Australia   \n205163             clickout item     54833       NZ  Sydney, Australia   \n207617             clickout item    109014       AU  Sydney, Australia   \n236432             clickout item     54824       AU  Sydney, Australia   \n...                          ...       ...      ...                ...   \n15808794           clickout item   1166793       AU  Sydney, Australia   \n15812906           clickout item     54885       AU  Sydney, Australia   \n15866156           clickout item   9132132       AU  Sydney, Australia   \n15929499   interaction item info     54804       PH  Sydney, Australia   \n15929500           clickout item     55109       PH  Sydney, Australia   \n\n           device                                    current_filters  \\\n15         mobile                                                NaN   \n198476     mobile                                                NaN   \n205163     tablet                                                NaN   \n207617     mobile  Hotel|4 Star|5 Star|Free WiFi (Combined)|Air C...   \n236432    desktop                                                NaN   \n...           ...                                                ...   \n15808794   tablet                                                NaN   \n15812906   mobile                                                NaN   \n15866156  desktop                          Sort by Price|Good Rating   \n15929499  desktop                                                NaN   \n15929500  desktop                                                NaN   \n\n                                                impressions  \\\n15        55109|129343|54824|2297972|109014|1257342|1031...   \n198476                                                  NaN   \n205163    54833|10335350|8229216|7939292|10226346|841908...   \n207617    54921|55109|54885|109014|55146|4040790|55093|1...   \n236432    54902|5790318|3924838|54824|109040|54803|45515...   \n...                                                     ...   \n15808794  54794|1039380|117990|55051|2445766|1342536|108...   \n15812906  4040790|109034|55093|54982|117990|54901|14211|...   \n15866156  1431482|9132132|1088584|109033|1253731|6657740...   \n15929499                                                NaN   \n15929500  109023|109024|1031578|55114|55109|1039380|9631...   \n\n                                                     prices  \n15        162|25|150|143|101|49|118|131|18|100|101|143|5...  \n198476                                                  NaN  \n205163    103|101|197|176|160|80|103|67|66|199|56|313|10...  \n207617    77|156|161|138|157|218|226|202|234|252|185|265...  \n236432    187|90|113|90|137|162|106|75|171|101|219|96|15...  \n...                                                     ...  \n15808794  164|151|140|252|339|179|199|238|199|208|165|16...  \n15812906  143|105|134|257|108|147|249|133|119|157|154|14...  \n15866156  32|63|66|69|69|69|74|89|90|92|92|97|97|98|98|1...  \n15929499                                                NaN  \n15929500  144|134|147|148|137|167|155|122|166|116|120|16...  \n\n[554 rows x 12 columns]",
      "text/html": "<div>\n<style scoped>\n    .dataframe tbody tr th:only-of-type {\n        vertical-align: middle;\n    }\n\n    .dataframe tbody tr th {\n        vertical-align: top;\n    }\n\n    .dataframe thead th {\n        text-align: right;\n    }\n</style>\n<table border=\"1\" class=\"dataframe\">\n  <thead>\n    <tr style=\"text-align: right;\">\n      <th></th>\n      <th>user_id</th>\n      <th>session_id</th>\n      <th>timestamp</th>\n      <th>step</th>\n      <th>action_type</th>\n      <th>reference</th>\n      <th>platform</th>\n      <th>city</th>\n      <th>device</th>\n      <th>current_filters</th>\n      <th>impressions</th>\n      <th>prices</th>\n    </tr>\n  </thead>\n  <tbody>\n    <tr>\n      <th>15</th>\n      <td>00RL8Z82B2Z1</td>\n      <td>aff3928535f48</td>\n      <td>1541038485</td>\n      <td>16</td>\n      <td>clickout item</td>\n      <td>1257342</td>\n      <td>AU</td>\n      <td>Sydney, Australia</td>\n      <td>mobile</td>\n      <td>NaN</td>\n      <td>55109|129343|54824|2297972|109014|1257342|1031...</td>\n      <td>162|25|150|143|101|49|118|131|18|100|101|143|5...</td>\n    </tr>\n    <tr>\n      <th>198476</th>\n      <td>OIPLP05G2DNX</td>\n      <td>cd70b75089786</td>\n      <td>1541219585</td>\n      <td>17</td>\n      <td>interaction item image</td>\n      <td>10077318</td>\n      <td>AU</td>\n      <td>Sydney, Australia</td>\n      <td>mobile</td>\n      <td>NaN</td>\n      <td>NaN</td>\n      <td>NaN</td>\n    </tr>\n    <tr>\n      <th>205163</th>\n      <td>2VT2BFH97JSO</td>\n      <td>5b7c65d248b8a</td>\n      <td>1541294748</td>\n      <td>2</td>\n      <td>clickout item</td>\n      <td>54833</td>\n      <td>NZ</td>\n      <td>Sydney, Australia</td>\n      <td>tablet</td>\n      <td>NaN</td>\n      <td>54833|10335350|8229216|7939292|10226346|841908...</td>\n      <td>103|101|197|176|160|80|103|67|66|199|56|313|10...</td>\n    </tr>\n    <tr>\n      <th>207617</th>\n      <td>9112310YDHJ9</td>\n      <td>a1587e7118d4b</td>\n      <td>1541326844</td>\n      <td>17</td>\n      <td>clickout item</td>\n      <td>109014</td>\n      <td>AU</td>\n      <td>Sydney, Australia</td>\n      <td>mobile</td>\n      <td>Hotel|4 Star|5 Star|Free WiFi (Combined)|Air C...</td>\n      <td>54921|55109|54885|109014|55146|4040790|55093|1...</td>\n      <td>77|156|161|138|157|218|226|202|234|252|185|265...</td>\n    </tr>\n    <tr>\n      <th>236432</th>\n      <td>32CP913ITOZ0</td>\n      <td>835577240e392</td>\n      <td>1541473490</td>\n      <td>2</td>\n      <td>clickout item</td>\n      <td>54824</td>\n      <td>AU</td>\n      <td>Sydney, Australia</td>\n      <td>desktop</td>\n      <td>NaN</td>\n      <td>54902|5790318|3924838|54824|109040|54803|45515...</td>\n      <td>187|90|113|90|137|162|106|75|171|101|219|96|15...</td>\n    </tr>\n    <tr>\n      <th>...</th>\n      <td>...</td>\n      <td>...</td>\n      <td>...</td>\n      <td>...</td>\n      <td>...</td>\n      <td>...</td>\n      <td>...</td>\n      <td>...</td>\n      <td>...</td>\n      <td>...</td>\n      <td>...</td>\n      <td>...</td>\n    </tr>\n    <tr>\n      <th>15808794</th>\n      <td>RZS33KEWGVPN</td>\n      <td>d3dea95ded878</td>\n      <td>1541223061</td>\n      <td>3</td>\n      <td>clickout item</td>\n      <td>1166793</td>\n      <td>AU</td>\n      <td>Sydney, Australia</td>\n      <td>tablet</td>\n      <td>NaN</td>\n      <td>54794|1039380|117990|55051|2445766|1342536|108...</td>\n      <td>164|151|140|252|339|179|199|238|199|208|165|16...</td>\n    </tr>\n    <tr>\n      <th>15812906</th>\n      <td>4M3IQ2JL5B7Y</td>\n      <td>ec216358ec2d2</td>\n      <td>1541329208</td>\n      <td>2</td>\n      <td>clickout item</td>\n      <td>54885</td>\n      <td>AU</td>\n      <td>Sydney, Australia</td>\n      <td>mobile</td>\n      <td>NaN</td>\n      <td>4040790|109034|55093|54982|117990|54901|14211|...</td>\n      <td>143|105|134|257|108|147|249|133|119|157|154|14...</td>\n    </tr>\n    <tr>\n      <th>15866156</th>\n      <td>0G22RO7KVWI6</td>\n      <td>470eb5337c42f</td>\n      <td>1541161304</td>\n      <td>10</td>\n      <td>clickout item</td>\n      <td>9132132</td>\n      <td>AU</td>\n      <td>Sydney, Australia</td>\n      <td>desktop</td>\n      <td>Sort by Price|Good Rating</td>\n      <td>1431482|9132132|1088584|109033|1253731|6657740...</td>\n      <td>32|63|66|69|69|69|74|89|90|92|92|97|97|98|98|1...</td>\n    </tr>\n    <tr>\n      <th>15929499</th>\n      <td>OWSKI3H77PFS</td>\n      <td>22759f347ddbf</td>\n      <td>1541464976</td>\n      <td>3</td>\n      <td>interaction item info</td>\n      <td>54804</td>\n      <td>PH</td>\n      <td>Sydney, Australia</td>\n      <td>desktop</td>\n      <td>NaN</td>\n      <td>NaN</td>\n      <td>NaN</td>\n    </tr>\n    <tr>\n      <th>15929500</th>\n      <td>OWSKI3H77PFS</td>\n      <td>22759f347ddbf</td>\n      <td>1541465016</td>\n      <td>4</td>\n      <td>clickout item</td>\n      <td>55109</td>\n      <td>PH</td>\n      <td>Sydney, Australia</td>\n      <td>desktop</td>\n      <td>NaN</td>\n      <td>109023|109024|1031578|55114|55109|1039380|9631...</td>\n      <td>144|134|147|148|137|167|155|122|166|116|120|16...</td>\n    </tr>\n  </tbody>\n</table>\n<p>554 rows × 12 columns</p>\n</div>"
     },
     "execution_count": 20,
     "metadata": {},
     "output_type": "execute_result"
    }
   ],
   "source": [
    "clicked_df = train_data[train_data['reference'].isin(impressionsList)]\n",
    "clicked_df = clicked_df.drop_duplicates(subset=['user_id', 'reference'])\n",
    "clicked_df"
   ],
   "metadata": {
    "collapsed": false,
    "pycharm": {
     "name": "#%%\n"
    }
   }
  },
  {
   "cell_type": "code",
   "execution_count": 26,
   "outputs": [
    {
     "data": {
      "text/plain": "448"
     },
     "execution_count": 26,
     "metadata": {},
     "output_type": "execute_result"
    }
   ],
   "source": [
    "users = clicked_df['user_id'].drop_duplicates().tolist()\n",
    "len(users)"
   ],
   "metadata": {
    "collapsed": false,
    "pycharm": {
     "name": "#%%\n"
    }
   }
  },
  {
   "cell_type": "code",
   "execution_count": 30,
   "outputs": [
    {
     "name": "stdout",
     "output_type": "stream",
     "text": [
      "0\n",
      "100\n",
      "200\n",
      "300\n",
      "400\n"
     ]
    }
   ],
   "source": [
    "path = f'../ProcessedData/metadata/clicked_user'\n",
    "\n",
    "os.makedirs(path, exist_ok=True)\n",
    "\n",
    "with open(f'{path}/clicked_user-relations.csv', 'w') as f:\n",
    "    write = csv.writer(f, lineterminator='\\n')\n",
    "    for user in users:\n",
    "\n",
    "        user_actions = clicked_df[clicked_df[\"user_id\"] == user]\n",
    "        clicked_elements = user_actions[user_actions[\"reference\"].str.isnumeric()][\"reference\"].tolist()\n",
    "\n",
    "        # Array with ids that will be 1\n",
    "        user_relation_ids = Parallel(n_jobs=10)(\n",
    "            delayed(lambda elem: impressionsList.index(elem) if elem in impressionsList else None)(clicked_element) for\n",
    "            clicked_element in clicked_elements)\n",
    "\n",
    "        user_relation_ids = set(filter(None, user_relation_ids))\n",
    "\n",
    "        if users.index(user) % 100 == 0:\n",
    "            print(users.index(user))\n",
    "\n",
    "        write.writerow(user_relation_ids)"
   ],
   "metadata": {
    "collapsed": false,
    "pycharm": {
     "name": "#%%\n"
    }
   }
  },
  {
   "cell_type": "code",
   "execution_count": 31,
   "outputs": [],
   "source": [
    "with open(f'{path}/clicked_user-objects.csv', 'w') as f:\n",
    "    write = csv.writer(f, lineterminator='\\n')\n",
    "    write.writerow(users)"
   ],
   "metadata": {
    "collapsed": false,
    "pycharm": {
     "name": "#%%\n"
    }
   }
  },
  {
   "cell_type": "code",
   "execution_count": 32,
   "outputs": [],
   "source": [
    "with open(f'{path}/clicked_user-attributes.csv', 'w') as f:\n",
    "    write = csv.writer(f, lineterminator='\\n')\n",
    "    write.writerow(impressionsList)"
   ],
   "metadata": {
    "collapsed": false,
    "pycharm": {
     "name": "#%%\n"
    }
   }
  }
 ],
 "metadata": {
  "kernelspec": {
   "display_name": "Python 3",
   "language": "python",
   "name": "python3"
  },
  "language_info": {
   "codemirror_mode": {
    "name": "ipython",
    "version": 2
   },
   "file_extension": ".py",
   "mimetype": "text/x-python",
   "name": "python",
   "nbconvert_exporter": "python",
   "pygments_lexer": "ipython2",
   "version": "2.7.6"
  }
 },
 "nbformat": 4,
 "nbformat_minor": 0
}