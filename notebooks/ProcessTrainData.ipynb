{
 "cells": [
  {
   "cell_type": "markdown",
   "id": "d928371f",
   "metadata": {},
   "source": []
  },
  {
   "cell_type": "markdown",
   "id": "59956567",
   "metadata": {},
   "source": [
    "#### Importing the libs"
   ]
  },
  {
   "cell_type": "code",
   "execution_count": 1,
   "id": "d99df2be",
   "metadata": {},
   "outputs": [],
   "source": [
    "import pandas as pd\n",
    "import os\n",
    "import numpy as np\n",
    "import csv\n",
    "\n",
    "import utils"
   ]
  },
  {
   "cell_type": "markdown",
   "id": "e4dddb4a",
   "metadata": {},
   "source": [
    "#### Loading the data"
   ]
  },
  {
   "cell_type": "code",
   "execution_count": 2,
   "id": "5dd74a69",
   "metadata": {},
   "outputs": [],
   "source": [
    "train_data = pd.read_csv(\"./Data/train.csv\")\n",
    "metadata_data = pd.read_csv(\"./Data/item_metadata.csv\")"
   ]
  },
  {
   "cell_type": "code",
   "execution_count": 3,
   "id": "04c82e9e",
   "metadata": {},
   "outputs": [
    {
     "data": {
      "text/plain": "        user_id     session_id   timestamp  step             action_type  \\\n0  00RL8Z82B2Z1  aff3928535f48  1541037460     1          search for poi   \n1  00RL8Z82B2Z1  aff3928535f48  1541037522     2  interaction item image   \n2  00RL8Z82B2Z1  aff3928535f48  1541037522     3  interaction item image   \n3  00RL8Z82B2Z1  aff3928535f48  1541037532     4  interaction item image   \n4  00RL8Z82B2Z1  aff3928535f48  1541037532     5  interaction item image   \n\n  reference platform               city  device current_filters impressions  \\\n0   Newtown       AU  Sydney, Australia  mobile             NaN         NaN   \n1    666856       AU  Sydney, Australia  mobile             NaN         NaN   \n2    666856       AU  Sydney, Australia  mobile             NaN         NaN   \n3    666856       AU  Sydney, Australia  mobile             NaN         NaN   \n4    109038       AU  Sydney, Australia  mobile             NaN         NaN   \n\n  prices  \n0    NaN  \n1    NaN  \n2    NaN  \n3    NaN  \n4    NaN  ",
      "text/html": "<div>\n<style scoped>\n    .dataframe tbody tr th:only-of-type {\n        vertical-align: middle;\n    }\n\n    .dataframe tbody tr th {\n        vertical-align: top;\n    }\n\n    .dataframe thead th {\n        text-align: right;\n    }\n</style>\n<table border=\"1\" class=\"dataframe\">\n  <thead>\n    <tr style=\"text-align: right;\">\n      <th></th>\n      <th>user_id</th>\n      <th>session_id</th>\n      <th>timestamp</th>\n      <th>step</th>\n      <th>action_type</th>\n      <th>reference</th>\n      <th>platform</th>\n      <th>city</th>\n      <th>device</th>\n      <th>current_filters</th>\n      <th>impressions</th>\n      <th>prices</th>\n    </tr>\n  </thead>\n  <tbody>\n    <tr>\n      <th>0</th>\n      <td>00RL8Z82B2Z1</td>\n      <td>aff3928535f48</td>\n      <td>1541037460</td>\n      <td>1</td>\n      <td>search for poi</td>\n      <td>Newtown</td>\n      <td>AU</td>\n      <td>Sydney, Australia</td>\n      <td>mobile</td>\n      <td>NaN</td>\n      <td>NaN</td>\n      <td>NaN</td>\n    </tr>\n    <tr>\n      <th>1</th>\n      <td>00RL8Z82B2Z1</td>\n      <td>aff3928535f48</td>\n      <td>1541037522</td>\n      <td>2</td>\n      <td>interaction item image</td>\n      <td>666856</td>\n      <td>AU</td>\n      <td>Sydney, Australia</td>\n      <td>mobile</td>\n      <td>NaN</td>\n      <td>NaN</td>\n      <td>NaN</td>\n    </tr>\n    <tr>\n      <th>2</th>\n      <td>00RL8Z82B2Z1</td>\n      <td>aff3928535f48</td>\n      <td>1541037522</td>\n      <td>3</td>\n      <td>interaction item image</td>\n      <td>666856</td>\n      <td>AU</td>\n      <td>Sydney, Australia</td>\n      <td>mobile</td>\n      <td>NaN</td>\n      <td>NaN</td>\n      <td>NaN</td>\n    </tr>\n    <tr>\n      <th>3</th>\n      <td>00RL8Z82B2Z1</td>\n      <td>aff3928535f48</td>\n      <td>1541037532</td>\n      <td>4</td>\n      <td>interaction item image</td>\n      <td>666856</td>\n      <td>AU</td>\n      <td>Sydney, Australia</td>\n      <td>mobile</td>\n      <td>NaN</td>\n      <td>NaN</td>\n      <td>NaN</td>\n    </tr>\n    <tr>\n      <th>4</th>\n      <td>00RL8Z82B2Z1</td>\n      <td>aff3928535f48</td>\n      <td>1541037532</td>\n      <td>5</td>\n      <td>interaction item image</td>\n      <td>109038</td>\n      <td>AU</td>\n      <td>Sydney, Australia</td>\n      <td>mobile</td>\n      <td>NaN</td>\n      <td>NaN</td>\n      <td>NaN</td>\n    </tr>\n  </tbody>\n</table>\n</div>"
     },
     "execution_count": 3,
     "metadata": {},
     "output_type": "execute_result"
    }
   ],
   "source": [
    "train_data.head(5)"
   ]
  },
  {
   "cell_type": "code",
   "execution_count": 4,
   "id": "49398ebc",
   "metadata": {
    "scrolled": true
   },
   "outputs": [
    {
     "data": {
      "text/plain": "   item_id                                         properties\n0     5101  Satellite TV|Golf Course|Airport Shuttle|Cosme...\n1     5416  Satellite TV|Cosmetic Mirror|Safe (Hotel)|Tele...\n2     5834  Satellite TV|Cosmetic Mirror|Safe (Hotel)|Tele...\n3     5910  Satellite TV|Sailing|Cosmetic Mirror|Telephone...\n4     6066  Satellite TV|Sailing|Diving|Cosmetic Mirror|Sa...",
      "text/html": "<div>\n<style scoped>\n    .dataframe tbody tr th:only-of-type {\n        vertical-align: middle;\n    }\n\n    .dataframe tbody tr th {\n        vertical-align: top;\n    }\n\n    .dataframe thead th {\n        text-align: right;\n    }\n</style>\n<table border=\"1\" class=\"dataframe\">\n  <thead>\n    <tr style=\"text-align: right;\">\n      <th></th>\n      <th>item_id</th>\n      <th>properties</th>\n    </tr>\n  </thead>\n  <tbody>\n    <tr>\n      <th>0</th>\n      <td>5101</td>\n      <td>Satellite TV|Golf Course|Airport Shuttle|Cosme...</td>\n    </tr>\n    <tr>\n      <th>1</th>\n      <td>5416</td>\n      <td>Satellite TV|Cosmetic Mirror|Safe (Hotel)|Tele...</td>\n    </tr>\n    <tr>\n      <th>2</th>\n      <td>5834</td>\n      <td>Satellite TV|Cosmetic Mirror|Safe (Hotel)|Tele...</td>\n    </tr>\n    <tr>\n      <th>3</th>\n      <td>5910</td>\n      <td>Satellite TV|Sailing|Cosmetic Mirror|Telephone...</td>\n    </tr>\n    <tr>\n      <th>4</th>\n      <td>6066</td>\n      <td>Satellite TV|Sailing|Diving|Cosmetic Mirror|Sa...</td>\n    </tr>\n  </tbody>\n</table>\n</div>"
     },
     "execution_count": 4,
     "metadata": {},
     "output_type": "execute_result"
    }
   ],
   "source": [
    "metadata_data.head(5)"
   ]
  },
  {
   "cell_type": "markdown",
   "id": "71afec3e",
   "metadata": {},
   "source": [
    "### Need to tranform the metadata dataframe\n",
    "The properties attribute has a string with the elements separated with \"|\" and I want a correlation matrix between the item and all the properties"
   ]
  },
  {
   "cell_type": "markdown",
   "id": "0244ec7b",
   "metadata": {},
   "source": [
    "#### 1. Split the properties attribute into a list"
   ]
  },
  {
   "cell_type": "code",
   "execution_count": 5,
   "id": "33d82a87",
   "metadata": {},
   "outputs": [],
   "source": [
    "metadata_data[\"properties\"] = metadata_data[\"properties\"].str.split(\"|\")"
   ]
  },
  {
   "cell_type": "markdown",
   "id": "e26414b0",
   "metadata": {},
   "source": [
    "#### 2. Process the list into columns and binary values"
   ]
  },
  {
   "cell_type": "code",
   "execution_count": 6,
   "id": "fb97a1f5",
   "metadata": {},
   "outputs": [],
   "source": [
    "metadata_data = metadata_data.explode(\"properties\").pivot_table(\n",
    "    index=\"item_id\", columns=\"properties\", aggfunc=\"size\", fill_value=0\n",
    ").reset_index()"
   ]
  },
  {
   "cell_type": "code",
   "execution_count": 7,
   "id": "7490b96e",
   "metadata": {
    "pycharm": {
     "name": "#%%\n"
    }
   },
   "outputs": [
    {
     "data": {
      "text/plain": "properties  item_id  1 Star  2 Star  3 Star  4 Star  5 Star  Accessible Hotel  \\\n0              5001       0       0       0       1       0                 0   \n1              5002       0       0       0       1       0                 0   \n2              5003       0       0       0       1       0                 1   \n3              5004       0       0       0       1       0                 0   \n4              5005       0       0       1       0       0                 0   \n\nproperties  Accessible Parking  Adults Only  Air Conditioning  ...  \\\n0                            0            0                 0  ...   \n1                            0            0                 1  ...   \n2                            0            0                 1  ...   \n3                            0            0                 0  ...   \n4                            0            0                 0  ...   \n\nproperties  Terrace (Hotel)  Theme Hotel  Towels  Very Good Rating  \\\n0                         1            0       0                 0   \n1                         0            0       0                 0   \n2                         1            0       1                 1   \n3                         1            0       0                 1   \n4                         1            0       0                 1   \n\nproperties  Volleyball  Washing Machine  Water Slide  Wheelchair Accessible  \\\n0                    0                0            0                      0   \n1                    0                0            0                      0   \n2                    0                0            0                      1   \n3                    0                0            0                      1   \n4                    0                0            0                      0   \n\nproperties  WiFi (Public Areas)  WiFi (Rooms)  \n0                             1             1  \n1                             1             1  \n2                             1             1  \n3                             1             1  \n4                             0             0  \n\n[5 rows x 158 columns]",
      "text/html": "<div>\n<style scoped>\n    .dataframe tbody tr th:only-of-type {\n        vertical-align: middle;\n    }\n\n    .dataframe tbody tr th {\n        vertical-align: top;\n    }\n\n    .dataframe thead th {\n        text-align: right;\n    }\n</style>\n<table border=\"1\" class=\"dataframe\">\n  <thead>\n    <tr style=\"text-align: right;\">\n      <th>properties</th>\n      <th>item_id</th>\n      <th>1 Star</th>\n      <th>2 Star</th>\n      <th>3 Star</th>\n      <th>4 Star</th>\n      <th>5 Star</th>\n      <th>Accessible Hotel</th>\n      <th>Accessible Parking</th>\n      <th>Adults Only</th>\n      <th>Air Conditioning</th>\n      <th>...</th>\n      <th>Terrace (Hotel)</th>\n      <th>Theme Hotel</th>\n      <th>Towels</th>\n      <th>Very Good Rating</th>\n      <th>Volleyball</th>\n      <th>Washing Machine</th>\n      <th>Water Slide</th>\n      <th>Wheelchair Accessible</th>\n      <th>WiFi (Public Areas)</th>\n      <th>WiFi (Rooms)</th>\n    </tr>\n  </thead>\n  <tbody>\n    <tr>\n      <th>0</th>\n      <td>5001</td>\n      <td>0</td>\n      <td>0</td>\n      <td>0</td>\n      <td>1</td>\n      <td>0</td>\n      <td>0</td>\n      <td>0</td>\n      <td>0</td>\n      <td>0</td>\n      <td>...</td>\n      <td>1</td>\n      <td>0</td>\n      <td>0</td>\n      <td>0</td>\n      <td>0</td>\n      <td>0</td>\n      <td>0</td>\n      <td>0</td>\n      <td>1</td>\n      <td>1</td>\n    </tr>\n    <tr>\n      <th>1</th>\n      <td>5002</td>\n      <td>0</td>\n      <td>0</td>\n      <td>0</td>\n      <td>1</td>\n      <td>0</td>\n      <td>0</td>\n      <td>0</td>\n      <td>0</td>\n      <td>1</td>\n      <td>...</td>\n      <td>0</td>\n      <td>0</td>\n      <td>0</td>\n      <td>0</td>\n      <td>0</td>\n      <td>0</td>\n      <td>0</td>\n      <td>0</td>\n      <td>1</td>\n      <td>1</td>\n    </tr>\n    <tr>\n      <th>2</th>\n      <td>5003</td>\n      <td>0</td>\n      <td>0</td>\n      <td>0</td>\n      <td>1</td>\n      <td>0</td>\n      <td>1</td>\n      <td>0</td>\n      <td>0</td>\n      <td>1</td>\n      <td>...</td>\n      <td>1</td>\n      <td>0</td>\n      <td>1</td>\n      <td>1</td>\n      <td>0</td>\n      <td>0</td>\n      <td>0</td>\n      <td>1</td>\n      <td>1</td>\n      <td>1</td>\n    </tr>\n    <tr>\n      <th>3</th>\n      <td>5004</td>\n      <td>0</td>\n      <td>0</td>\n      <td>0</td>\n      <td>1</td>\n      <td>0</td>\n      <td>0</td>\n      <td>0</td>\n      <td>0</td>\n      <td>0</td>\n      <td>...</td>\n      <td>1</td>\n      <td>0</td>\n      <td>0</td>\n      <td>1</td>\n      <td>0</td>\n      <td>0</td>\n      <td>0</td>\n      <td>1</td>\n      <td>1</td>\n      <td>1</td>\n    </tr>\n    <tr>\n      <th>4</th>\n      <td>5005</td>\n      <td>0</td>\n      <td>0</td>\n      <td>1</td>\n      <td>0</td>\n      <td>0</td>\n      <td>0</td>\n      <td>0</td>\n      <td>0</td>\n      <td>0</td>\n      <td>...</td>\n      <td>1</td>\n      <td>0</td>\n      <td>0</td>\n      <td>1</td>\n      <td>0</td>\n      <td>0</td>\n      <td>0</td>\n      <td>0</td>\n      <td>0</td>\n      <td>0</td>\n    </tr>\n  </tbody>\n</table>\n<p>5 rows × 158 columns</p>\n</div>"
     },
     "execution_count": 7,
     "metadata": {},
     "output_type": "execute_result"
    }
   ],
   "source": [
    "metadata_data.head(5)"
   ]
  },
  {
   "cell_type": "markdown",
   "source": [
    "### Get a list of hotels from the train data"
   ],
   "metadata": {
    "collapsed": false
   }
  },
  {
   "cell_type": "code",
   "execution_count": 8,
   "outputs": [
    {
     "data": {
      "text/plain": "         user_id     session_id   timestamp  step    action_type reference  \\\n15  00RL8Z82B2Z1  aff3928535f48  1541038485    16  clickout item   1257342   \n\n   platform               city  device current_filters  \\\n15       AU  Sydney, Australia  mobile             NaN   \n\n                                          impressions  \\\n15  55109|129343|54824|2297972|109014|1257342|1031...   \n\n                                               prices  \n15  162|25|150|143|101|49|118|131|18|100|101|143|5...  ",
      "text/html": "<div>\n<style scoped>\n    .dataframe tbody tr th:only-of-type {\n        vertical-align: middle;\n    }\n\n    .dataframe tbody tr th {\n        vertical-align: top;\n    }\n\n    .dataframe thead th {\n        text-align: right;\n    }\n</style>\n<table border=\"1\" class=\"dataframe\">\n  <thead>\n    <tr style=\"text-align: right;\">\n      <th></th>\n      <th>user_id</th>\n      <th>session_id</th>\n      <th>timestamp</th>\n      <th>step</th>\n      <th>action_type</th>\n      <th>reference</th>\n      <th>platform</th>\n      <th>city</th>\n      <th>device</th>\n      <th>current_filters</th>\n      <th>impressions</th>\n      <th>prices</th>\n    </tr>\n  </thead>\n  <tbody>\n    <tr>\n      <th>15</th>\n      <td>00RL8Z82B2Z1</td>\n      <td>aff3928535f48</td>\n      <td>1541038485</td>\n      <td>16</td>\n      <td>clickout item</td>\n      <td>1257342</td>\n      <td>AU</td>\n      <td>Sydney, Australia</td>\n      <td>mobile</td>\n      <td>NaN</td>\n      <td>55109|129343|54824|2297972|109014|1257342|1031...</td>\n      <td>162|25|150|143|101|49|118|131|18|100|101|143|5...</td>\n    </tr>\n  </tbody>\n</table>\n</div>"
     },
     "execution_count": 8,
     "metadata": {},
     "output_type": "execute_result"
    }
   ],
   "source": [
    "example_session = train_data[train_data['user_id'] == '00RL8Z82B2Z1'].tail(1)\n",
    "example_session"
   ],
   "metadata": {
    "collapsed": false,
    "pycharm": {
     "name": "#%%\n"
    }
   }
  },
  {
   "cell_type": "code",
   "execution_count": 9,
   "outputs": [
    {
     "data": {
      "text/plain": "15    [55109, 129343, 54824, 2297972, 109014, 125734...\nName: impressions, dtype: object"
     },
     "execution_count": 9,
     "metadata": {},
     "output_type": "execute_result"
    }
   ],
   "source": [
    "impressions = example_session[\"impressions\"].str.split(\"|\")\n",
    "impressions"
   ],
   "metadata": {
    "collapsed": false,
    "pycharm": {
     "name": "#%%\n"
    }
   }
  },
  {
   "cell_type": "code",
   "execution_count": 10,
   "outputs": [
    {
     "data": {
      "text/plain": "[55109,\n 129343,\n 54824,\n 2297972,\n 109014,\n 1257342,\n 1031578,\n 109018,\n 1332971,\n 666916,\n 54833,\n 54885,\n 2237222,\n 10077318,\n 1166793,\n 9132132,\n 1474297,\n 3909420,\n 6622154,\n 55091,\n 8444418,\n 54804,\n 2050977,\n 666936,\n 55088]"
     },
     "execution_count": 10,
     "metadata": {},
     "output_type": "execute_result"
    }
   ],
   "source": [
    "impressionsList = impressions.tolist()[0]\n",
    "impressionsList = [int(num) for num in impressionsList]\n",
    "impressionsList"
   ],
   "metadata": {
    "collapsed": false,
    "pycharm": {
     "name": "#%%\n"
    }
   }
  },
  {
   "cell_type": "code",
   "execution_count": 11,
   "outputs": [],
   "source": [
    "utils.load_df_csv(metadata_data, impressionsList, \"00RL8Z82B2Z1\")"
   ],
   "metadata": {
    "collapsed": false,
    "pycharm": {
     "name": "#%%\n"
    }
   }
  }
 ],
 "metadata": {
  "kernelspec": {
   "display_name": "Python 3 (ipykernel)",
   "language": "python",
   "name": "python3"
  },
  "language_info": {
   "codemirror_mode": {
    "name": "ipython",
    "version": 3
   },
   "file_extension": ".py",
   "mimetype": "text/x-python",
   "name": "python",
   "nbconvert_exporter": "python",
   "pygments_lexer": "ipython3",
   "version": "3.9.7"
  }
 },
 "nbformat": 4,
 "nbformat_minor": 5
}