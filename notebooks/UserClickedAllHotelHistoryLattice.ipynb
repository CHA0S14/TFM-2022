{
 "cells": [
  {
   "cell_type": "markdown",
   "source": [
    "#### Importing the libs"
   ],
   "metadata": {
    "collapsed": false
   }
  },
  {
   "cell_type": "code",
   "execution_count": 21,
   "outputs": [],
   "source": [
    "import pandas as pd\n",
    "import os\n",
    "import numpy as np\n",
    "import csv\n",
    "\n",
    "import utils\n",
    "from joblib import Parallel, delayed"
   ],
   "metadata": {
    "collapsed": false,
    "pycharm": {
     "name": "#%%\n"
    }
   }
  },
  {
   "cell_type": "markdown",
   "source": [
    "#### Loading the data"
   ],
   "metadata": {
    "collapsed": false
   }
  },
  {
   "cell_type": "code",
   "execution_count": 22,
   "outputs": [],
   "source": [
    "train_data = pd.read_csv(\"./Data/train.csv\")\n",
    "metadata_data = pd.read_csv(\"./Data/item_metadata.csv\")"
   ],
   "metadata": {
    "collapsed": false,
    "pycharm": {
     "name": "#%%\n"
    }
   }
  },
  {
   "cell_type": "code",
   "execution_count": 23,
   "outputs": [
    {
     "data": {
      "text/plain": "        user_id     session_id   timestamp  step             action_type  \\\n0  00RL8Z82B2Z1  aff3928535f48  1541037460     1          search for poi   \n1  00RL8Z82B2Z1  aff3928535f48  1541037522     2  interaction item image   \n2  00RL8Z82B2Z1  aff3928535f48  1541037522     3  interaction item image   \n3  00RL8Z82B2Z1  aff3928535f48  1541037532     4  interaction item image   \n4  00RL8Z82B2Z1  aff3928535f48  1541037532     5  interaction item image   \n\n  reference platform               city  device current_filters impressions  \\\n0   Newtown       AU  Sydney, Australia  mobile             NaN         NaN   \n1    666856       AU  Sydney, Australia  mobile             NaN         NaN   \n2    666856       AU  Sydney, Australia  mobile             NaN         NaN   \n3    666856       AU  Sydney, Australia  mobile             NaN         NaN   \n4    109038       AU  Sydney, Australia  mobile             NaN         NaN   \n\n  prices  \n0    NaN  \n1    NaN  \n2    NaN  \n3    NaN  \n4    NaN  ",
      "text/html": "<div>\n<style scoped>\n    .dataframe tbody tr th:only-of-type {\n        vertical-align: middle;\n    }\n\n    .dataframe tbody tr th {\n        vertical-align: top;\n    }\n\n    .dataframe thead th {\n        text-align: right;\n    }\n</style>\n<table border=\"1\" class=\"dataframe\">\n  <thead>\n    <tr style=\"text-align: right;\">\n      <th></th>\n      <th>user_id</th>\n      <th>session_id</th>\n      <th>timestamp</th>\n      <th>step</th>\n      <th>action_type</th>\n      <th>reference</th>\n      <th>platform</th>\n      <th>city</th>\n      <th>device</th>\n      <th>current_filters</th>\n      <th>impressions</th>\n      <th>prices</th>\n    </tr>\n  </thead>\n  <tbody>\n    <tr>\n      <th>0</th>\n      <td>00RL8Z82B2Z1</td>\n      <td>aff3928535f48</td>\n      <td>1541037460</td>\n      <td>1</td>\n      <td>search for poi</td>\n      <td>Newtown</td>\n      <td>AU</td>\n      <td>Sydney, Australia</td>\n      <td>mobile</td>\n      <td>NaN</td>\n      <td>NaN</td>\n      <td>NaN</td>\n    </tr>\n    <tr>\n      <th>1</th>\n      <td>00RL8Z82B2Z1</td>\n      <td>aff3928535f48</td>\n      <td>1541037522</td>\n      <td>2</td>\n      <td>interaction item image</td>\n      <td>666856</td>\n      <td>AU</td>\n      <td>Sydney, Australia</td>\n      <td>mobile</td>\n      <td>NaN</td>\n      <td>NaN</td>\n      <td>NaN</td>\n    </tr>\n    <tr>\n      <th>2</th>\n      <td>00RL8Z82B2Z1</td>\n      <td>aff3928535f48</td>\n      <td>1541037522</td>\n      <td>3</td>\n      <td>interaction item image</td>\n      <td>666856</td>\n      <td>AU</td>\n      <td>Sydney, Australia</td>\n      <td>mobile</td>\n      <td>NaN</td>\n      <td>NaN</td>\n      <td>NaN</td>\n    </tr>\n    <tr>\n      <th>3</th>\n      <td>00RL8Z82B2Z1</td>\n      <td>aff3928535f48</td>\n      <td>1541037532</td>\n      <td>4</td>\n      <td>interaction item image</td>\n      <td>666856</td>\n      <td>AU</td>\n      <td>Sydney, Australia</td>\n      <td>mobile</td>\n      <td>NaN</td>\n      <td>NaN</td>\n      <td>NaN</td>\n    </tr>\n    <tr>\n      <th>4</th>\n      <td>00RL8Z82B2Z1</td>\n      <td>aff3928535f48</td>\n      <td>1541037532</td>\n      <td>5</td>\n      <td>interaction item image</td>\n      <td>109038</td>\n      <td>AU</td>\n      <td>Sydney, Australia</td>\n      <td>mobile</td>\n      <td>NaN</td>\n      <td>NaN</td>\n      <td>NaN</td>\n    </tr>\n  </tbody>\n</table>\n</div>"
     },
     "execution_count": 23,
     "metadata": {},
     "output_type": "execute_result"
    }
   ],
   "source": [
    "train_data.head(5)"
   ],
   "metadata": {
    "collapsed": false,
    "pycharm": {
     "name": "#%%\n"
    }
   }
  },
  {
   "cell_type": "code",
   "execution_count": 24,
   "outputs": [
    {
     "data": {
      "text/plain": "0           00RL8Z82B2Z1\n16          02HGRBA06ODU\n81          02SRUT1NQYH1\n116         03K8AXBL4BX2\n123         03P4VFKK12UO\n                ...     \n15932956    ZU702MR210D2\n15932966    ZV6EJXAD9929\n15932967    ZVIDWWE0KWNB\n15932971    ZYDH48FW5Q3Q\n15932973    ZYNMLE3MV3LK\nName: user_id, Length: 730803, dtype: object"
     },
     "execution_count": 24,
     "metadata": {},
     "output_type": "execute_result"
    }
   ],
   "source": [
    "train_data.drop_duplicates(subset=['user_id']).user_id"
   ],
   "metadata": {
    "collapsed": false,
    "pycharm": {
     "name": "#%%\n"
    }
   }
  },
  {
   "cell_type": "code",
   "execution_count": 25,
   "outputs": [],
   "source": [
    "user_id = \"0473FZ8UNXRS\""
   ],
   "metadata": {
    "collapsed": false,
    "pycharm": {
     "name": "#%%\n"
    }
   }
  },
  {
   "cell_type": "code",
   "execution_count": 26,
   "outputs": [
    {
     "data": {
      "text/plain": "   item_id                                         properties\n0     5101  Satellite TV|Golf Course|Airport Shuttle|Cosme...\n1     5416  Satellite TV|Cosmetic Mirror|Safe (Hotel)|Tele...\n2     5834  Satellite TV|Cosmetic Mirror|Safe (Hotel)|Tele...\n3     5910  Satellite TV|Sailing|Cosmetic Mirror|Telephone...\n4     6066  Satellite TV|Sailing|Diving|Cosmetic Mirror|Sa...",
      "text/html": "<div>\n<style scoped>\n    .dataframe tbody tr th:only-of-type {\n        vertical-align: middle;\n    }\n\n    .dataframe tbody tr th {\n        vertical-align: top;\n    }\n\n    .dataframe thead th {\n        text-align: right;\n    }\n</style>\n<table border=\"1\" class=\"dataframe\">\n  <thead>\n    <tr style=\"text-align: right;\">\n      <th></th>\n      <th>item_id</th>\n      <th>properties</th>\n    </tr>\n  </thead>\n  <tbody>\n    <tr>\n      <th>0</th>\n      <td>5101</td>\n      <td>Satellite TV|Golf Course|Airport Shuttle|Cosme...</td>\n    </tr>\n    <tr>\n      <th>1</th>\n      <td>5416</td>\n      <td>Satellite TV|Cosmetic Mirror|Safe (Hotel)|Tele...</td>\n    </tr>\n    <tr>\n      <th>2</th>\n      <td>5834</td>\n      <td>Satellite TV|Cosmetic Mirror|Safe (Hotel)|Tele...</td>\n    </tr>\n    <tr>\n      <th>3</th>\n      <td>5910</td>\n      <td>Satellite TV|Sailing|Cosmetic Mirror|Telephone...</td>\n    </tr>\n    <tr>\n      <th>4</th>\n      <td>6066</td>\n      <td>Satellite TV|Sailing|Diving|Cosmetic Mirror|Sa...</td>\n    </tr>\n  </tbody>\n</table>\n</div>"
     },
     "execution_count": 26,
     "metadata": {},
     "output_type": "execute_result"
    }
   ],
   "source": [
    "metadata_data.head(5)"
   ],
   "metadata": {
    "collapsed": false,
    "pycharm": {
     "name": "#%%\n"
    }
   }
  },
  {
   "cell_type": "markdown",
   "source": [
    "### Need to tranform the metadata dataframe\n",
    "The properties attribute has a string with the elements separated with \"|\" and I want a correlation matrix between the item and all the properties"
   ],
   "metadata": {
    "collapsed": false
   }
  },
  {
   "cell_type": "markdown",
   "source": [
    "#### 1. Split the properties attribute into a list"
   ],
   "metadata": {
    "collapsed": false
   }
  },
  {
   "cell_type": "code",
   "execution_count": 27,
   "outputs": [],
   "source": [
    "metadata_data[\"properties\"] = metadata_data[\"properties\"].str.split(\"|\")"
   ],
   "metadata": {
    "collapsed": false,
    "pycharm": {
     "name": "#%%\n"
    }
   }
  },
  {
   "cell_type": "markdown",
   "source": [
    "#### 2. Process the list into columns and binary values"
   ],
   "metadata": {
    "collapsed": false
   }
  },
  {
   "cell_type": "code",
   "execution_count": 28,
   "outputs": [],
   "source": [
    "metadata_data = metadata_data.explode(\"properties\").pivot_table(\n",
    "    index=\"item_id\", columns=\"properties\", aggfunc=\"size\", fill_value=0\n",
    ").reset_index()"
   ],
   "metadata": {
    "collapsed": false,
    "pycharm": {
     "name": "#%%\n"
    }
   }
  },
  {
   "cell_type": "code",
   "execution_count": 29,
   "outputs": [
    {
     "data": {
      "text/plain": "properties  item_id  1 Star  2 Star  3 Star  4 Star  5 Star  Accessible Hotel  \\\n0              5001       0       0       0       1       0                 0   \n1              5002       0       0       0       1       0                 0   \n2              5003       0       0       0       1       0                 1   \n3              5004       0       0       0       1       0                 0   \n4              5005       0       0       1       0       0                 0   \n\nproperties  Accessible Parking  Adults Only  Air Conditioning  ...  \\\n0                            0            0                 0  ...   \n1                            0            0                 1  ...   \n2                            0            0                 1  ...   \n3                            0            0                 0  ...   \n4                            0            0                 0  ...   \n\nproperties  Terrace (Hotel)  Theme Hotel  Towels  Very Good Rating  \\\n0                         1            0       0                 0   \n1                         0            0       0                 0   \n2                         1            0       1                 1   \n3                         1            0       0                 1   \n4                         1            0       0                 1   \n\nproperties  Volleyball  Washing Machine  Water Slide  Wheelchair Accessible  \\\n0                    0                0            0                      0   \n1                    0                0            0                      0   \n2                    0                0            0                      1   \n3                    0                0            0                      1   \n4                    0                0            0                      0   \n\nproperties  WiFi (Public Areas)  WiFi (Rooms)  \n0                             1             1  \n1                             1             1  \n2                             1             1  \n3                             1             1  \n4                             0             0  \n\n[5 rows x 158 columns]",
      "text/html": "<div>\n<style scoped>\n    .dataframe tbody tr th:only-of-type {\n        vertical-align: middle;\n    }\n\n    .dataframe tbody tr th {\n        vertical-align: top;\n    }\n\n    .dataframe thead th {\n        text-align: right;\n    }\n</style>\n<table border=\"1\" class=\"dataframe\">\n  <thead>\n    <tr style=\"text-align: right;\">\n      <th>properties</th>\n      <th>item_id</th>\n      <th>1 Star</th>\n      <th>2 Star</th>\n      <th>3 Star</th>\n      <th>4 Star</th>\n      <th>5 Star</th>\n      <th>Accessible Hotel</th>\n      <th>Accessible Parking</th>\n      <th>Adults Only</th>\n      <th>Air Conditioning</th>\n      <th>...</th>\n      <th>Terrace (Hotel)</th>\n      <th>Theme Hotel</th>\n      <th>Towels</th>\n      <th>Very Good Rating</th>\n      <th>Volleyball</th>\n      <th>Washing Machine</th>\n      <th>Water Slide</th>\n      <th>Wheelchair Accessible</th>\n      <th>WiFi (Public Areas)</th>\n      <th>WiFi (Rooms)</th>\n    </tr>\n  </thead>\n  <tbody>\n    <tr>\n      <th>0</th>\n      <td>5001</td>\n      <td>0</td>\n      <td>0</td>\n      <td>0</td>\n      <td>1</td>\n      <td>0</td>\n      <td>0</td>\n      <td>0</td>\n      <td>0</td>\n      <td>0</td>\n      <td>...</td>\n      <td>1</td>\n      <td>0</td>\n      <td>0</td>\n      <td>0</td>\n      <td>0</td>\n      <td>0</td>\n      <td>0</td>\n      <td>0</td>\n      <td>1</td>\n      <td>1</td>\n    </tr>\n    <tr>\n      <th>1</th>\n      <td>5002</td>\n      <td>0</td>\n      <td>0</td>\n      <td>0</td>\n      <td>1</td>\n      <td>0</td>\n      <td>0</td>\n      <td>0</td>\n      <td>0</td>\n      <td>1</td>\n      <td>...</td>\n      <td>0</td>\n      <td>0</td>\n      <td>0</td>\n      <td>0</td>\n      <td>0</td>\n      <td>0</td>\n      <td>0</td>\n      <td>0</td>\n      <td>1</td>\n      <td>1</td>\n    </tr>\n    <tr>\n      <th>2</th>\n      <td>5003</td>\n      <td>0</td>\n      <td>0</td>\n      <td>0</td>\n      <td>1</td>\n      <td>0</td>\n      <td>1</td>\n      <td>0</td>\n      <td>0</td>\n      <td>1</td>\n      <td>...</td>\n      <td>1</td>\n      <td>0</td>\n      <td>1</td>\n      <td>1</td>\n      <td>0</td>\n      <td>0</td>\n      <td>0</td>\n      <td>1</td>\n      <td>1</td>\n      <td>1</td>\n    </tr>\n    <tr>\n      <th>3</th>\n      <td>5004</td>\n      <td>0</td>\n      <td>0</td>\n      <td>0</td>\n      <td>1</td>\n      <td>0</td>\n      <td>0</td>\n      <td>0</td>\n      <td>0</td>\n      <td>0</td>\n      <td>...</td>\n      <td>1</td>\n      <td>0</td>\n      <td>0</td>\n      <td>1</td>\n      <td>0</td>\n      <td>0</td>\n      <td>0</td>\n      <td>1</td>\n      <td>1</td>\n      <td>1</td>\n    </tr>\n    <tr>\n      <th>4</th>\n      <td>5005</td>\n      <td>0</td>\n      <td>0</td>\n      <td>1</td>\n      <td>0</td>\n      <td>0</td>\n      <td>0</td>\n      <td>0</td>\n      <td>0</td>\n      <td>0</td>\n      <td>...</td>\n      <td>1</td>\n      <td>0</td>\n      <td>0</td>\n      <td>1</td>\n      <td>0</td>\n      <td>0</td>\n      <td>0</td>\n      <td>0</td>\n      <td>0</td>\n      <td>0</td>\n    </tr>\n  </tbody>\n</table>\n<p>5 rows × 158 columns</p>\n</div>"
     },
     "execution_count": 29,
     "metadata": {},
     "output_type": "execute_result"
    }
   ],
   "source": [
    "metadata_data.head(5)"
   ],
   "metadata": {
    "collapsed": false,
    "pycharm": {
     "name": "#%%\n"
    }
   }
  },
  {
   "cell_type": "markdown",
   "source": [
    "### Get a list of hotels from the train data"
   ],
   "metadata": {
    "collapsed": false
   }
  },
  {
   "cell_type": "code",
   "execution_count": 30,
   "outputs": [
    {
     "data": {
      "text/plain": "          user_id     session_id   timestamp  step    action_type reference  \\\n180  0473FZ8UNXRS  bcc452f3350eb  1541062532     3  clickout item   3143258   \n\n    platform               city   device current_filters  \\\n180       AU  Legian, Indonesia  desktop             NaN   \n\n                                           impressions  \\\n180  1258184|3866722|8929970|2315702|116619|1511641...   \n\n                                                prices  \n180  51|43|69|49|62|50|55|42|87|46|43|114|194|50|19...  ",
      "text/html": "<div>\n<style scoped>\n    .dataframe tbody tr th:only-of-type {\n        vertical-align: middle;\n    }\n\n    .dataframe tbody tr th {\n        vertical-align: top;\n    }\n\n    .dataframe thead th {\n        text-align: right;\n    }\n</style>\n<table border=\"1\" class=\"dataframe\">\n  <thead>\n    <tr style=\"text-align: right;\">\n      <th></th>\n      <th>user_id</th>\n      <th>session_id</th>\n      <th>timestamp</th>\n      <th>step</th>\n      <th>action_type</th>\n      <th>reference</th>\n      <th>platform</th>\n      <th>city</th>\n      <th>device</th>\n      <th>current_filters</th>\n      <th>impressions</th>\n      <th>prices</th>\n    </tr>\n  </thead>\n  <tbody>\n    <tr>\n      <th>180</th>\n      <td>0473FZ8UNXRS</td>\n      <td>bcc452f3350eb</td>\n      <td>1541062532</td>\n      <td>3</td>\n      <td>clickout item</td>\n      <td>3143258</td>\n      <td>AU</td>\n      <td>Legian, Indonesia</td>\n      <td>desktop</td>\n      <td>NaN</td>\n      <td>1258184|3866722|8929970|2315702|116619|1511641...</td>\n      <td>51|43|69|49|62|50|55|42|87|46|43|114|194|50|19...</td>\n    </tr>\n  </tbody>\n</table>\n</div>"
     },
     "execution_count": 30,
     "metadata": {},
     "output_type": "execute_result"
    }
   ],
   "source": [
    "example_session = train_data[train_data['user_id'] == user_id].tail(1)\n",
    "example_session"
   ],
   "metadata": {
    "collapsed": false,
    "pycharm": {
     "name": "#%%\n"
    }
   }
  },
  {
   "cell_type": "code",
   "execution_count": 31,
   "outputs": [
    {
     "data": {
      "text/plain": "180    [1258184, 3866722, 8929970, 2315702, 116619, 1...\nName: impressions, dtype: object"
     },
     "execution_count": 31,
     "metadata": {},
     "output_type": "execute_result"
    }
   ],
   "source": [
    "impressions = example_session[\"impressions\"].str.split(\"|\")\n",
    "impressions"
   ],
   "metadata": {
    "collapsed": false,
    "pycharm": {
     "name": "#%%\n"
    }
   }
  },
  {
   "cell_type": "code",
   "execution_count": 32,
   "outputs": [
    {
     "data": {
      "text/plain": "25"
     },
     "execution_count": 32,
     "metadata": {},
     "output_type": "execute_result"
    }
   ],
   "source": [
    "impressionsList = impressions.tolist()[0]\n",
    "intImpressionsList = [int(num) for num in impressionsList]\n",
    "len(impressionsList)"
   ],
   "metadata": {
    "collapsed": false,
    "pycharm": {
     "name": "#%%\n"
    }
   }
  },
  {
   "cell_type": "markdown",
   "source": [
    "## Search User who clicked any hotel"
   ],
   "metadata": {
    "collapsed": false,
    "pycharm": {
     "name": "#%% md\n"
    }
   }
  },
  {
   "cell_type": "code",
   "execution_count": 33,
   "outputs": [],
   "source": [
    "clicked_df = train_data[train_data['reference'].isin(impressionsList)]\n",
    "clicked_df = clicked_df.drop_duplicates(subset=['user_id', 'reference'])\n",
    "users = clicked_df['user_id'].drop_duplicates().tolist()\n",
    "\n",
    "if user_id not in users:\n",
    "    users.append(user_id)"
   ],
   "metadata": {
    "collapsed": false,
    "pycharm": {
     "name": "#%%\n"
    }
   }
  },
  {
   "cell_type": "markdown",
   "source": [
    "## Get all clicked hotels by all the users"
   ],
   "metadata": {
    "collapsed": false,
    "pycharm": {
     "name": "#%% md\n"
    }
   }
  },
  {
   "cell_type": "code",
   "execution_count": 34,
   "outputs": [
    {
     "data": {
      "text/plain": "               user_id     session_id   timestamp  step  \\\n178       0473FZ8UNXRS  bcc452f3350eb  1541062453     1   \n179       0473FZ8UNXRS  bcc452f3350eb  1541062460     2   \n180       0473FZ8UNXRS  bcc452f3350eb  1541062532     3   \n32729     F45QW49X6VOX  a434d14e81300  1541243154     1   \n32730     F45QW49X6VOX  a434d14e81300  1541243545     2   \n...                ...            ...         ...   ...   \n15820183  P33KQNRB4KJX  3088fae09edc3  1541318072   118   \n15820190  P33KQNRB4KJX  3088fae09edc3  1541318201   125   \n15820216  P33KQNRB4KJX  3088fae09edc3  1541318488   151   \n15820241  P33KQNRB4KJX  3088fae09edc3  1541318593   176   \n15820242  P33KQNRB4KJX  3088fae09edc3  1541318593   177   \n\n                      action_type               reference platform  \\\n178       interaction item rating                  749441       AU   \n179               search for item                 1258184       AU   \n180                 clickout item                 3143258       AU   \n32729               clickout item                  116620       AU   \n32730               clickout item                  114598       AU   \n...                           ...                     ...      ...   \n15820183   interaction item image                 4940052       JP   \n15820190   interaction item image                  153964       JP   \n15820216   interaction item image                  113891       JP   \n15820241     change of sort order  rating and recommended       JP   \n15820242         filter selection         Focus on Rating       JP   \n\n                         city   device  \\\n178       Seminyak, Indonesia  desktop   \n179         Legian, Indonesia  desktop   \n180         Legian, Indonesia  desktop   \n32729       Legian, Indonesia   tablet   \n32730       Legian, Indonesia   tablet   \n...                       ...      ...   \n15820183      Ubud, Indonesia  desktop   \n15820190      Ubud, Indonesia  desktop   \n15820216      Ubud, Indonesia  desktop   \n15820241      Ubud, Indonesia  desktop   \n15820242      Ubud, Indonesia  desktop   \n\n                                            current_filters  \\\n178                                                     NaN   \n179                                                     NaN   \n180                                                     NaN   \n32729                                                   NaN   \n32730                                                   NaN   \n...                                                     ...   \n15820183                                                NaN   \n15820190                                                NaN   \n15820216                                                NaN   \n15820241                                                NaN   \n15820242  Reception (24/7)|Free WiFi (Combined)|Swimming...   \n\n                                                impressions  \\\n178                                                     NaN   \n179                                                     NaN   \n180       1258184|3866722|8929970|2315702|116619|1511641...   \n32729     116620|111929|93911|3866722|1511641|3143258|34...   \n32730     114598|93911|1288161|111929|5192338|99551|3866...   \n...                                                     ...   \n15820183                                                NaN   \n15820190                                                NaN   \n15820216                                                NaN   \n15820241                                                NaN   \n15820242                                                NaN   \n\n                                                     prices  \n178                                                     NaN  \n179                                                     NaN  \n180       51|43|69|49|62|50|55|42|87|46|43|114|194|50|19...  \n32729     60|55|101|45|50|96|133|230|107|198|198|327|188...  \n32730     94|101|98|55|132|186|45|53|50|120|73|133|230|9...  \n...                                                     ...  \n15820183                                                NaN  \n15820190                                                NaN  \n15820216                                                NaN  \n15820241                                                NaN  \n15820242                                                NaN  \n\n[2992 rows x 12 columns]",
      "text/html": "<div>\n<style scoped>\n    .dataframe tbody tr th:only-of-type {\n        vertical-align: middle;\n    }\n\n    .dataframe tbody tr th {\n        vertical-align: top;\n    }\n\n    .dataframe thead th {\n        text-align: right;\n    }\n</style>\n<table border=\"1\" class=\"dataframe\">\n  <thead>\n    <tr style=\"text-align: right;\">\n      <th></th>\n      <th>user_id</th>\n      <th>session_id</th>\n      <th>timestamp</th>\n      <th>step</th>\n      <th>action_type</th>\n      <th>reference</th>\n      <th>platform</th>\n      <th>city</th>\n      <th>device</th>\n      <th>current_filters</th>\n      <th>impressions</th>\n      <th>prices</th>\n    </tr>\n  </thead>\n  <tbody>\n    <tr>\n      <th>178</th>\n      <td>0473FZ8UNXRS</td>\n      <td>bcc452f3350eb</td>\n      <td>1541062453</td>\n      <td>1</td>\n      <td>interaction item rating</td>\n      <td>749441</td>\n      <td>AU</td>\n      <td>Seminyak, Indonesia</td>\n      <td>desktop</td>\n      <td>NaN</td>\n      <td>NaN</td>\n      <td>NaN</td>\n    </tr>\n    <tr>\n      <th>179</th>\n      <td>0473FZ8UNXRS</td>\n      <td>bcc452f3350eb</td>\n      <td>1541062460</td>\n      <td>2</td>\n      <td>search for item</td>\n      <td>1258184</td>\n      <td>AU</td>\n      <td>Legian, Indonesia</td>\n      <td>desktop</td>\n      <td>NaN</td>\n      <td>NaN</td>\n      <td>NaN</td>\n    </tr>\n    <tr>\n      <th>180</th>\n      <td>0473FZ8UNXRS</td>\n      <td>bcc452f3350eb</td>\n      <td>1541062532</td>\n      <td>3</td>\n      <td>clickout item</td>\n      <td>3143258</td>\n      <td>AU</td>\n      <td>Legian, Indonesia</td>\n      <td>desktop</td>\n      <td>NaN</td>\n      <td>1258184|3866722|8929970|2315702|116619|1511641...</td>\n      <td>51|43|69|49|62|50|55|42|87|46|43|114|194|50|19...</td>\n    </tr>\n    <tr>\n      <th>32729</th>\n      <td>F45QW49X6VOX</td>\n      <td>a434d14e81300</td>\n      <td>1541243154</td>\n      <td>1</td>\n      <td>clickout item</td>\n      <td>116620</td>\n      <td>AU</td>\n      <td>Legian, Indonesia</td>\n      <td>tablet</td>\n      <td>NaN</td>\n      <td>116620|111929|93911|3866722|1511641|3143258|34...</td>\n      <td>60|55|101|45|50|96|133|230|107|198|198|327|188...</td>\n    </tr>\n    <tr>\n      <th>32730</th>\n      <td>F45QW49X6VOX</td>\n      <td>a434d14e81300</td>\n      <td>1541243545</td>\n      <td>2</td>\n      <td>clickout item</td>\n      <td>114598</td>\n      <td>AU</td>\n      <td>Legian, Indonesia</td>\n      <td>tablet</td>\n      <td>NaN</td>\n      <td>114598|93911|1288161|111929|5192338|99551|3866...</td>\n      <td>94|101|98|55|132|186|45|53|50|120|73|133|230|9...</td>\n    </tr>\n    <tr>\n      <th>...</th>\n      <td>...</td>\n      <td>...</td>\n      <td>...</td>\n      <td>...</td>\n      <td>...</td>\n      <td>...</td>\n      <td>...</td>\n      <td>...</td>\n      <td>...</td>\n      <td>...</td>\n      <td>...</td>\n      <td>...</td>\n    </tr>\n    <tr>\n      <th>15820183</th>\n      <td>P33KQNRB4KJX</td>\n      <td>3088fae09edc3</td>\n      <td>1541318072</td>\n      <td>118</td>\n      <td>interaction item image</td>\n      <td>4940052</td>\n      <td>JP</td>\n      <td>Ubud, Indonesia</td>\n      <td>desktop</td>\n      <td>NaN</td>\n      <td>NaN</td>\n      <td>NaN</td>\n    </tr>\n    <tr>\n      <th>15820190</th>\n      <td>P33KQNRB4KJX</td>\n      <td>3088fae09edc3</td>\n      <td>1541318201</td>\n      <td>125</td>\n      <td>interaction item image</td>\n      <td>153964</td>\n      <td>JP</td>\n      <td>Ubud, Indonesia</td>\n      <td>desktop</td>\n      <td>NaN</td>\n      <td>NaN</td>\n      <td>NaN</td>\n    </tr>\n    <tr>\n      <th>15820216</th>\n      <td>P33KQNRB4KJX</td>\n      <td>3088fae09edc3</td>\n      <td>1541318488</td>\n      <td>151</td>\n      <td>interaction item image</td>\n      <td>113891</td>\n      <td>JP</td>\n      <td>Ubud, Indonesia</td>\n      <td>desktop</td>\n      <td>NaN</td>\n      <td>NaN</td>\n      <td>NaN</td>\n    </tr>\n    <tr>\n      <th>15820241</th>\n      <td>P33KQNRB4KJX</td>\n      <td>3088fae09edc3</td>\n      <td>1541318593</td>\n      <td>176</td>\n      <td>change of sort order</td>\n      <td>rating and recommended</td>\n      <td>JP</td>\n      <td>Ubud, Indonesia</td>\n      <td>desktop</td>\n      <td>NaN</td>\n      <td>NaN</td>\n      <td>NaN</td>\n    </tr>\n    <tr>\n      <th>15820242</th>\n      <td>P33KQNRB4KJX</td>\n      <td>3088fae09edc3</td>\n      <td>1541318593</td>\n      <td>177</td>\n      <td>filter selection</td>\n      <td>Focus on Rating</td>\n      <td>JP</td>\n      <td>Ubud, Indonesia</td>\n      <td>desktop</td>\n      <td>Reception (24/7)|Free WiFi (Combined)|Swimming...</td>\n      <td>NaN</td>\n      <td>NaN</td>\n    </tr>\n  </tbody>\n</table>\n<p>2992 rows × 12 columns</p>\n</div>"
     },
     "execution_count": 34,
     "metadata": {},
     "output_type": "execute_result"
    }
   ],
   "source": [
    "clicked_df = train_data[train_data['user_id'].isin(users)]\n",
    "clicked_df = clicked_df.drop_duplicates(subset=['user_id', 'reference'])\n",
    "\n",
    "clicked_df"
   ],
   "metadata": {
    "collapsed": false,
    "pycharm": {
     "name": "#%%\n"
    }
   }
  },
  {
   "cell_type": "markdown",
   "source": [
    "## Prepare all hotels clicked list"
   ],
   "metadata": {
    "collapsed": false,
    "pycharm": {
     "name": "#%% md\n"
    }
   }
  },
  {
   "cell_type": "code",
   "execution_count": 35,
   "outputs": [
    {
     "data": {
      "text/plain": "['749441',\n '1258184',\n '3143258',\n '116620',\n '114598',\n '93911',\n '5203238',\n '1289618',\n '344371',\n '1838723',\n '4573192',\n '6473852',\n '3134160',\n '2660484',\n '1293950',\n '2109344',\n '1217454',\n '1714515',\n '343816',\n '96264',\n '739901',\n '4461496',\n '5007734',\n '130904',\n '5618704',\n '6918776',\n '9130052',\n '97829',\n '97908',\n '1950413',\n '2023137',\n '121077',\n '2024225',\n '2564644',\n '3785158',\n '1450939',\n '8862702',\n '8270752',\n '98113',\n '6236626',\n '5081942',\n '6092202',\n '104163',\n '2399520',\n '3154900',\n '119269',\n '823931',\n '3866722',\n '2599578',\n '1951305',\n '1773331',\n '1016689',\n '97907',\n '5722996',\n '1989485',\n '3167682',\n '1888239',\n '2832458',\n '3152684',\n '2590018',\n '153964',\n '1411216',\n '1723173',\n '153963',\n '3156051',\n '2073706',\n '3252443',\n '4852816',\n '1370149',\n '1123340',\n '1157071',\n '3223738',\n '909075',\n '5142264',\n '8706814',\n '1767221',\n '4120180',\n '111929',\n '2045937',\n '9144056',\n '9701474',\n '6784968',\n '1288161',\n '2179654',\n '344506',\n '1328812',\n '1511641',\n '322071',\n '5788568',\n '2157726',\n '1884179',\n '1718271',\n '114281',\n '2151250',\n '2162500',\n '2625059',\n '2634040',\n '2300762',\n '1105744',\n '4926962',\n '7176366',\n '99560',\n '3131908',\n '104111',\n '3183661',\n '2818579',\n '436736',\n '2782748',\n '1081268',\n '3165260',\n '2267126',\n '2734682',\n '116619',\n '5997158',\n '1016731',\n '96275',\n '344316',\n '2670784',\n '104142',\n '1235850',\n '2111298',\n '955179',\n '2733889',\n '93915',\n '93912',\n '95762',\n '904927',\n '912759',\n '2430966',\n '1990977',\n '1480459',\n '159006',\n '94842',\n '4381084',\n '1255543',\n '2577470',\n '2048915',\n '104199',\n '99559',\n '113889',\n '4776560',\n '880943',\n '448351',\n '1890015',\n '1670979',\n '1769069',\n '1162578',\n '840391',\n '2715372',\n '2440828',\n '111933',\n '104166',\n '2549440',\n '156203',\n '4357216',\n '1152134',\n '844346',\n '5192338',\n '1730637',\n '8003726',\n '1498485',\n '127270',\n '1360689',\n '80766',\n '4410188',\n '7073010',\n '385766',\n '9460770',\n '8748620',\n '5801674',\n '2873838',\n '2315702',\n '1369129',\n '4928026',\n '2425154',\n '5825954',\n '2439520',\n '9965988',\n '2203076',\n '104101',\n '1838773',\n '118611',\n '5506634',\n '5746668',\n '3134284',\n '99551',\n '5039662',\n '101927',\n '3155913',\n '2218230',\n '687041',\n '1892097',\n '2717959',\n '99555',\n '407126',\n '112578',\n '2179342',\n '1054742',\n '5178958',\n '3873332',\n '4584348',\n '104194',\n '1394424',\n '3515876',\n '19693',\n '1373238',\n '3971522',\n '950987',\n '669206',\n '564886',\n '109304',\n '2836239',\n '3134296',\n '97287',\n '970085',\n '2202688',\n '344681',\n '1307174',\n '95191',\n '1322072',\n '1829475',\n '99556',\n '4249650',\n '2617738',\n '4878220',\n '1352800',\n '3117580',\n '3762286',\n '2440982',\n '5780268',\n '2576236',\n '4491754',\n '2345514',\n '2335228',\n '1109286',\n '344501',\n '104179',\n '123250',\n '2423502',\n '8929970',\n '2420702',\n '236476',\n '8595',\n '899423',\n '914095',\n '1030426',\n '2121504',\n '6924112',\n '3134252',\n '9224476',\n '1354092',\n '1889527',\n '2915050',\n '6062922',\n '1449755',\n '6521416',\n '2048903',\n '2397725',\n '3150422',\n '1947465',\n '1036868',\n '1307176',\n '104105',\n '1170416',\n '10077274',\n '1101634',\n '1305376',\n '3896782',\n '3182916',\n '119285',\n '2562157',\n '2007175',\n '2596795',\n '1305269',\n '105074',\n '2084770',\n '514386',\n '324271',\n '669131',\n '479906',\n '325851',\n '344411',\n '132112',\n '4091704',\n '2581427',\n '3131916',\n '1713037',\n '5478206',\n '2202606',\n '159004',\n '4576604',\n '10621696',\n '2165446',\n '10593280',\n '448136',\n '2373570',\n '1888107',\n '2901236',\n '4126806',\n '6452880',\n '3152536',\n '147438',\n '7362642',\n '6819496',\n '1088596',\n '2621855',\n '2628969',\n '1510711',\n '122633',\n '10024012',\n '3812764',\n '5594158',\n '5492196',\n '5100056',\n '3533258',\n '99553',\n '99563',\n '2734631',\n '99561',\n '54828',\n '55021',\n '97498',\n '4960488',\n '3406716',\n '2870144',\n '9802220',\n '99544',\n '8423280',\n '115635',\n '382881',\n '94849',\n '2397648',\n '4632906',\n '2549464',\n '3056850',\n '858911',\n '7493142',\n '66777',\n '153676',\n '61153',\n '70547',\n '58631',\n '63269',\n '56688',\n '66779',\n '66768',\n '67069',\n '78242',\n '2590008',\n '1210984',\n '5190346',\n '7939',\n '2665770',\n '7954',\n '67077',\n '617386',\n '68810',\n '7912',\n '73798',\n '61715',\n '1375752',\n '72725',\n '102414',\n '8298066',\n '66787',\n '64878',\n '8589',\n '8618',\n '8586',\n '8588',\n '8590',\n '104122',\n '8477336',\n '5971168',\n '97909',\n '3850644',\n '130687',\n '4567912',\n '2621868',\n '118636',\n '97477',\n '118617',\n '1947367',\n '93914',\n '2592260',\n '4165862',\n '2581129',\n '2307444',\n '3566378',\n '3044934',\n '5059258',\n '111932',\n '104110',\n '2151718',\n '1289444',\n '344651',\n '2029181',\n '5924894',\n '3514934',\n '1980963',\n '3134266',\n '344711',\n '3134274',\n '4286034',\n '96003',\n '1048606',\n '3487132',\n '119487',\n '4347706',\n '1751777',\n '2469906',\n '7037698',\n '1950347',\n '3812680',\n '2523942',\n '2127560',\n '3367164',\n '2870110',\n '7981412',\n '5800486',\n '1083760',\n '381636',\n '148761',\n '130684',\n '1766197',\n '1025482',\n '122299',\n '1495855',\n '2856157',\n '2202598',\n '2470364',\n '2774732',\n '8613488',\n '3184318',\n '4898942',\n '5804526',\n '4537028',\n '2292704',\n '4932668',\n '1711811',\n '2560030',\n '2418013',\n '5180258',\n '2226790',\n '3486834',\n '2568056',\n '6489750',\n '1258386',\n '1334314',\n '2856149',\n '2865506',\n '3184309',\n '2722618',\n '4548284',\n '2672380',\n '2674804',\n '2581486',\n '1016693',\n '2081974',\n '2227436',\n '2804462',\n '1910507',\n '2730388',\n '1731521',\n '2617172',\n '5727624',\n '2817528',\n '5041666',\n '2560851',\n '1479491',\n '130686',\n '2179126',\n '2266230',\n '1838771',\n '2086850',\n '4370964',\n '1412266',\n '979289',\n '4522972',\n '4792454',\n '909069',\n '4260486',\n '5187936',\n '6299630',\n '4134402',\n '93913',\n '2786854',\n '344386',\n '5206878',\n '894539',\n '4374166',\n '1307364',\n '1137203',\n '1017667',\n '99546',\n '668066',\n '109132',\n '5423040',\n '3533382',\n '2013087',\n '1356670',\n '3187316',\n '1523059',\n '2728206',\n '3134272',\n '1781119',\n '2165702',\n '1345868',\n '2715335',\n '5703384',\n '615461',\n '1419919',\n '98898',\n '110365',\n '436591',\n '4927560',\n '2202630',\n '2718378',\n '101830',\n '914555',\n '40899',\n '40896',\n '1455251',\n '5944462',\n '47785',\n '2202960',\n '1713929',\n '344381',\n '5421900',\n '5519766',\n '3487178',\n '4990232',\n '2610230',\n '1646635',\n '2631710',\n '126695',\n '2635383',\n '2941877',\n '2097044',\n '4217208',\n '2477616',\n '4421036',\n '165672',\n '2440436',\n '3971356',\n '2156874',\n '4547092',\n '344531',\n '1041670',\n '7917988',\n '4508466',\n '5805556',\n '436556',\n '2081896',\n '3053438',\n '104114',\n '2733939',\n '4013400',\n '1448807',\n '1828965',\n '5037880',\n '12614',\n '473806',\n '1494019',\n '15119',\n '3518894',\n '2901354',\n '882895',\n '1627075',\n '102029',\n '429646',\n '909079',\n '1228828',\n '1176016',\n '102483',\n '1254218',\n '1045244',\n '568081',\n '880965',\n '2178170',\n '2390982',\n '2146422',\n '2202712',\n '1016719',\n '95636',\n '1183592',\n '897447',\n '1025484',\n '436641',\n '2870695',\n '119249',\n '11032422',\n '1950075',\n '7327034',\n '7372632',\n '104107',\n '3043702',\n '1529439',\n '3367142',\n '906369',\n '2423508',\n '2870416',\n '4601422',\n '5019994',\n '557701',\n '344701',\n '2864080',\n '6847388',\n '4633478',\n '4227958',\n '3485338',\n '4881428',\n '1951295',\n '2577380',\n '154539',\n '1016697',\n '1830073',\n '96903',\n '363006',\n '106146',\n '9653018',\n '7751936',\n '5023858',\n '1123352',\n '4872634',\n '116046',\n '2239398',\n '80507',\n '3176924',\n '3132430',\n '9350',\n '5761724',\n '436651',\n '2206940',\n '476091',\n '152143',\n '3816144',\n '3367468',\n '2367912',\n '2289812',\n '111940',\n '6707446',\n '3501322',\n '3132940',\n '2426601',\n '7863784',\n '2782764',\n '2470352',\n '1137738',\n '5091082',\n '3486898',\n '8285006',\n '2904450',\n '7254500',\n '2869994',\n '474481',\n '2269768',\n '4883610',\n '4572650',\n '94841',\n '1067338',\n '130685',\n '3131922',\n '5157356',\n '2085278',\n '2775956',\n '1394183',\n '2020277',\n '3043742',\n '2455764',\n '5478114',\n '3749352',\n '6918556',\n '4519730',\n '3953380',\n '4890996',\n '6857898',\n '2924916',\n '7800058',\n '2026637',\n '6902542',\n '9651452',\n '2095996',\n '344631',\n '1357354',\n '1416080',\n '2380092',\n '1102986',\n '4123632',\n '2881018',\n '2671608',\n '80522',\n '85425',\n '2952573',\n '1879729',\n '115913',\n '155753',\n '2599318',\n '2508256',\n '3450110',\n '152873',\n '2224720',\n '2307576',\n '2127106',\n '1370100',\n '3045038',\n '111934',\n '684416',\n '7159126',\n '6239272',\n '124227',\n '950185',\n '1285615',\n '2232136',\n '4641180',\n '4521122',\n '2106862',\n '1554137',\n '5927502',\n '1394414',\n '1310259',\n '2328416',\n '2156352',\n '1827995',\n '2317294',\n '2900138',\n '1184386',\n '1001287',\n '1634497',\n '4520538',\n '1790317',\n '109071',\n '54985',\n '55089',\n '2100706',\n '4623558',\n '1016715',\n '1884763',\n '1016691',\n '344451',\n '2599554',\n '344571',\n '2941860',\n '448946',\n '3514936',\n '2202530',\n '448301',\n '3514716',\n '344621',\n '3477912',\n '54907',\n '4530144',\n '2123132',\n '2145018',\n '4161684',\n '5972164',\n '116371',\n '3958296',\n '3936016',\n '1150893',\n '8774168',\n '103225',\n '104137',\n '3148572',\n '2202812',\n '2081970',\n '2395827',\n '5127660',\n '5790282',\n '2559945',\n '1788989',\n '407331',\n '1455431',\n '386766',\n '3184376',\n '2621842',\n '40923',\n '2727758',\n '8231348',\n '7829334',\n '1833933',\n '5122084',\n '1646309',\n '2730152',\n '1109251',\n '2423510',\n '54984',\n '102059',\n '54909',\n '102033',\n '2614164',\n '105106',\n '667411',\n '153053',\n '326141',\n '54830',\n '980147',\n '955941',\n '55076',\n '1491379',\n '54843',\n '54927',\n '54841',\n '2772988',\n '908537',\n '1102232',\n '54829',\n '11095542',\n '6723582',\n '6445168',\n '7811002',\n '1552865',\n '1408321',\n '1361626',\n '5852410',\n '7075324',\n '5625326',\n '684426',\n '1460043',\n '1895513',\n '7809094',\n '2305640',\n '2021353',\n '4598920',\n '2900202',\n '5825826',\n '1888207',\n '3756308',\n '2157774',\n '2655482',\n '3131926',\n '3143260',\n '3511652',\n '2599680',\n '1717963',\n '2202644',\n '2816220',\n '9667458',\n '2000755',\n '379381',\n '1711219',\n '1370248',\n '2048909',\n '9777',\n '5186090',\n '9418',\n '5970526',\n '2456288',\n '101420',\n '101419',\n '4486858',\n '5704440',\n '12667',\n '7912786',\n '2576892',\n '6767026',\n '9599926',\n '401351',\n '5034666',\n '5509338',\n '1951369',\n '2327890',\n '2618146',\n '4940052',\n '113891']"
     },
     "execution_count": 35,
     "metadata": {},
     "output_type": "execute_result"
    }
   ],
   "source": [
    "hotels_clicked = clicked_df[clicked_df[\"reference\"].str.isnumeric()].drop_duplicates(subset=['reference'])['reference'].tolist()\n",
    "\n",
    "hotels_clicked"
   ],
   "metadata": {
    "collapsed": false,
    "pycharm": {
     "name": "#%%\n"
    }
   }
  },
  {
   "cell_type": "markdown",
   "source": [
    "## Prepare matrix"
   ],
   "metadata": {
    "collapsed": false,
    "pycharm": {
     "name": "#%% md\n"
    }
   }
  },
  {
   "cell_type": "code",
   "execution_count": 38,
   "outputs": [
    {
     "name": "stdout",
     "output_type": "stream",
     "text": [
      "0\n",
      "100\n",
      "200\n",
      "300\n"
     ]
    }
   ],
   "source": [
    "data_uid = f'clicked_all_history_user_{user_id}'\n",
    "\n",
    "path = f'../ProcessedData/metadata/{data_uid}'\n",
    "\n",
    "os.makedirs(path, exist_ok=True)\n",
    "\n",
    "with open(f'{path}/{data_uid}-relations.csv', 'w') as f:\n",
    "    write = csv.writer(f, lineterminator='\\n')\n",
    "    for user in users:\n",
    "\n",
    "        user_actions = clicked_df[clicked_df[\"user_id\"] == user]\n",
    "        clicked_elements = user_actions[user_actions[\"reference\"].str.isnumeric()][\"reference\"].tolist()\n",
    "\n",
    "        # Array with ids that will be 1\n",
    "        user_relation_ids = Parallel(n_jobs=10)(\n",
    "            delayed(lambda elem: hotels_clicked.index(elem) if elem in hotels_clicked else None)(clicked_element) for\n",
    "            clicked_element in clicked_elements)\n",
    "\n",
    "        user_relation_ids = set(filter(None, user_relation_ids))\n",
    "\n",
    "        if users.index(user) % 100 == 0:\n",
    "            print(users.index(user))\n",
    "\n",
    "        write.writerow(user_relation_ids)"
   ],
   "metadata": {
    "collapsed": false,
    "pycharm": {
     "name": "#%%\n"
    }
   }
  },
  {
   "cell_type": "code",
   "execution_count": 39,
   "outputs": [],
   "source": [
    "with open(f'{path}/{data_uid}-objects.csv', 'w') as f:\n",
    "    write = csv.writer(f, lineterminator='\\n')\n",
    "    write.writerow(users)\n",
    "\n",
    "with open(f'{path}/{data_uid}-attributes.csv', 'w') as f:\n",
    "    write = csv.writer(f, lineterminator='\\n')\n",
    "    write.writerow(hotels_clicked)"
   ],
   "metadata": {
    "collapsed": false,
    "pycharm": {
     "name": "#%%\n"
    }
   }
  }
 ],
 "metadata": {
  "kernelspec": {
   "display_name": "Python 3",
   "language": "python",
   "name": "python3"
  },
  "language_info": {
   "codemirror_mode": {
    "name": "ipython",
    "version": 2
   },
   "file_extension": ".py",
   "mimetype": "text/x-python",
   "name": "python",
   "nbconvert_exporter": "python",
   "pygments_lexer": "ipython2",
   "version": "2.7.6"
  }
 },
 "nbformat": 4,
 "nbformat_minor": 0
}