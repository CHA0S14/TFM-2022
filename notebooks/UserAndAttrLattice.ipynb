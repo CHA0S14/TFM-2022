{
 "cells": [
  {
   "cell_type": "markdown",
   "source": [
    "#### Importing the libs"
   ],
   "metadata": {
    "collapsed": false
   }
  },
  {
   "cell_type": "code",
   "execution_count": 1,
   "outputs": [],
   "source": [
    "import pandas as pd\n",
    "import os\n",
    "import numpy as np\n",
    "import csv\n",
    "\n",
    "import utils\n",
    "\n",
    "from joblib import Parallel, delayed"
   ],
   "metadata": {
    "collapsed": false,
    "pycharm": {
     "name": "#%%\n"
    }
   }
  },
  {
   "cell_type": "markdown",
   "source": [
    "#### Loading the data"
   ],
   "metadata": {
    "collapsed": false
   }
  },
  {
   "cell_type": "code",
   "execution_count": 2,
   "outputs": [],
   "source": [
    "train_data = pd.read_csv(\"./Data/train.csv\")\n",
    "metadata_data = pd.read_csv(\"./Data/item_metadata.csv\")"
   ],
   "metadata": {
    "collapsed": false,
    "pycharm": {
     "name": "#%%\n"
    }
   }
  },
  {
   "cell_type": "code",
   "execution_count": 3,
   "outputs": [
    {
     "data": {
      "text/plain": "        user_id     session_id   timestamp  step             action_type  \\\n0  00RL8Z82B2Z1  aff3928535f48  1541037460     1          search for poi   \n1  00RL8Z82B2Z1  aff3928535f48  1541037522     2  interaction item image   \n2  00RL8Z82B2Z1  aff3928535f48  1541037522     3  interaction item image   \n3  00RL8Z82B2Z1  aff3928535f48  1541037532     4  interaction item image   \n4  00RL8Z82B2Z1  aff3928535f48  1541037532     5  interaction item image   \n\n  reference platform               city  device current_filters impressions  \\\n0   Newtown       AU  Sydney, Australia  mobile             NaN         NaN   \n1    666856       AU  Sydney, Australia  mobile             NaN         NaN   \n2    666856       AU  Sydney, Australia  mobile             NaN         NaN   \n3    666856       AU  Sydney, Australia  mobile             NaN         NaN   \n4    109038       AU  Sydney, Australia  mobile             NaN         NaN   \n\n  prices  \n0    NaN  \n1    NaN  \n2    NaN  \n3    NaN  \n4    NaN  ",
      "text/html": "<div>\n<style scoped>\n    .dataframe tbody tr th:only-of-type {\n        vertical-align: middle;\n    }\n\n    .dataframe tbody tr th {\n        vertical-align: top;\n    }\n\n    .dataframe thead th {\n        text-align: right;\n    }\n</style>\n<table border=\"1\" class=\"dataframe\">\n  <thead>\n    <tr style=\"text-align: right;\">\n      <th></th>\n      <th>user_id</th>\n      <th>session_id</th>\n      <th>timestamp</th>\n      <th>step</th>\n      <th>action_type</th>\n      <th>reference</th>\n      <th>platform</th>\n      <th>city</th>\n      <th>device</th>\n      <th>current_filters</th>\n      <th>impressions</th>\n      <th>prices</th>\n    </tr>\n  </thead>\n  <tbody>\n    <tr>\n      <th>0</th>\n      <td>00RL8Z82B2Z1</td>\n      <td>aff3928535f48</td>\n      <td>1541037460</td>\n      <td>1</td>\n      <td>search for poi</td>\n      <td>Newtown</td>\n      <td>AU</td>\n      <td>Sydney, Australia</td>\n      <td>mobile</td>\n      <td>NaN</td>\n      <td>NaN</td>\n      <td>NaN</td>\n    </tr>\n    <tr>\n      <th>1</th>\n      <td>00RL8Z82B2Z1</td>\n      <td>aff3928535f48</td>\n      <td>1541037522</td>\n      <td>2</td>\n      <td>interaction item image</td>\n      <td>666856</td>\n      <td>AU</td>\n      <td>Sydney, Australia</td>\n      <td>mobile</td>\n      <td>NaN</td>\n      <td>NaN</td>\n      <td>NaN</td>\n    </tr>\n    <tr>\n      <th>2</th>\n      <td>00RL8Z82B2Z1</td>\n      <td>aff3928535f48</td>\n      <td>1541037522</td>\n      <td>3</td>\n      <td>interaction item image</td>\n      <td>666856</td>\n      <td>AU</td>\n      <td>Sydney, Australia</td>\n      <td>mobile</td>\n      <td>NaN</td>\n      <td>NaN</td>\n      <td>NaN</td>\n    </tr>\n    <tr>\n      <th>3</th>\n      <td>00RL8Z82B2Z1</td>\n      <td>aff3928535f48</td>\n      <td>1541037532</td>\n      <td>4</td>\n      <td>interaction item image</td>\n      <td>666856</td>\n      <td>AU</td>\n      <td>Sydney, Australia</td>\n      <td>mobile</td>\n      <td>NaN</td>\n      <td>NaN</td>\n      <td>NaN</td>\n    </tr>\n    <tr>\n      <th>4</th>\n      <td>00RL8Z82B2Z1</td>\n      <td>aff3928535f48</td>\n      <td>1541037532</td>\n      <td>5</td>\n      <td>interaction item image</td>\n      <td>109038</td>\n      <td>AU</td>\n      <td>Sydney, Australia</td>\n      <td>mobile</td>\n      <td>NaN</td>\n      <td>NaN</td>\n      <td>NaN</td>\n    </tr>\n  </tbody>\n</table>\n</div>"
     },
     "execution_count": 3,
     "metadata": {},
     "output_type": "execute_result"
    }
   ],
   "source": [
    "train_data.head(5)"
   ],
   "metadata": {
    "collapsed": false,
    "pycharm": {
     "name": "#%%\n"
    }
   }
  },
  {
   "cell_type": "code",
   "execution_count": 4,
   "outputs": [
    {
     "data": {
      "text/plain": "   item_id                                         properties\n0     5101  Satellite TV|Golf Course|Airport Shuttle|Cosme...\n1     5416  Satellite TV|Cosmetic Mirror|Safe (Hotel)|Tele...\n2     5834  Satellite TV|Cosmetic Mirror|Safe (Hotel)|Tele...\n3     5910  Satellite TV|Sailing|Cosmetic Mirror|Telephone...\n4     6066  Satellite TV|Sailing|Diving|Cosmetic Mirror|Sa...",
      "text/html": "<div>\n<style scoped>\n    .dataframe tbody tr th:only-of-type {\n        vertical-align: middle;\n    }\n\n    .dataframe tbody tr th {\n        vertical-align: top;\n    }\n\n    .dataframe thead th {\n        text-align: right;\n    }\n</style>\n<table border=\"1\" class=\"dataframe\">\n  <thead>\n    <tr style=\"text-align: right;\">\n      <th></th>\n      <th>item_id</th>\n      <th>properties</th>\n    </tr>\n  </thead>\n  <tbody>\n    <tr>\n      <th>0</th>\n      <td>5101</td>\n      <td>Satellite TV|Golf Course|Airport Shuttle|Cosme...</td>\n    </tr>\n    <tr>\n      <th>1</th>\n      <td>5416</td>\n      <td>Satellite TV|Cosmetic Mirror|Safe (Hotel)|Tele...</td>\n    </tr>\n    <tr>\n      <th>2</th>\n      <td>5834</td>\n      <td>Satellite TV|Cosmetic Mirror|Safe (Hotel)|Tele...</td>\n    </tr>\n    <tr>\n      <th>3</th>\n      <td>5910</td>\n      <td>Satellite TV|Sailing|Cosmetic Mirror|Telephone...</td>\n    </tr>\n    <tr>\n      <th>4</th>\n      <td>6066</td>\n      <td>Satellite TV|Sailing|Diving|Cosmetic Mirror|Sa...</td>\n    </tr>\n  </tbody>\n</table>\n</div>"
     },
     "execution_count": 4,
     "metadata": {},
     "output_type": "execute_result"
    }
   ],
   "source": [
    "metadata_data.head(5)"
   ],
   "metadata": {
    "collapsed": false,
    "pycharm": {
     "name": "#%%\n"
    }
   }
  },
  {
   "cell_type": "markdown",
   "source": [
    "## Process metadata properties into columns"
   ],
   "metadata": {
    "collapsed": false
   }
  },
  {
   "cell_type": "code",
   "execution_count": 5,
   "outputs": [
    {
     "data": {
      "text/plain": "properties  item_id  1 Star  2 Star  3 Star  4 Star  5 Star  Accessible Hotel  \\\n0              5001       0       0       0       1       0                 0   \n1              5002       0       0       0       1       0                 0   \n2              5003       0       0       0       1       0                 1   \n3              5004       0       0       0       1       0                 0   \n4              5005       0       0       1       0       0                 0   \n\nproperties  Accessible Parking  Adults Only  Air Conditioning  ...  \\\n0                            0            0                 0  ...   \n1                            0            0                 1  ...   \n2                            0            0                 1  ...   \n3                            0            0                 0  ...   \n4                            0            0                 0  ...   \n\nproperties  Terrace (Hotel)  Theme Hotel  Towels  Very Good Rating  \\\n0                         1            0       0                 0   \n1                         0            0       0                 0   \n2                         1            0       1                 1   \n3                         1            0       0                 1   \n4                         1            0       0                 1   \n\nproperties  Volleyball  Washing Machine  Water Slide  Wheelchair Accessible  \\\n0                    0                0            0                      0   \n1                    0                0            0                      0   \n2                    0                0            0                      1   \n3                    0                0            0                      1   \n4                    0                0            0                      0   \n\nproperties  WiFi (Public Areas)  WiFi (Rooms)  \n0                             1             1  \n1                             1             1  \n2                             1             1  \n3                             1             1  \n4                             0             0  \n\n[5 rows x 158 columns]",
      "text/html": "<div>\n<style scoped>\n    .dataframe tbody tr th:only-of-type {\n        vertical-align: middle;\n    }\n\n    .dataframe tbody tr th {\n        vertical-align: top;\n    }\n\n    .dataframe thead th {\n        text-align: right;\n    }\n</style>\n<table border=\"1\" class=\"dataframe\">\n  <thead>\n    <tr style=\"text-align: right;\">\n      <th>properties</th>\n      <th>item_id</th>\n      <th>1 Star</th>\n      <th>2 Star</th>\n      <th>3 Star</th>\n      <th>4 Star</th>\n      <th>5 Star</th>\n      <th>Accessible Hotel</th>\n      <th>Accessible Parking</th>\n      <th>Adults Only</th>\n      <th>Air Conditioning</th>\n      <th>...</th>\n      <th>Terrace (Hotel)</th>\n      <th>Theme Hotel</th>\n      <th>Towels</th>\n      <th>Very Good Rating</th>\n      <th>Volleyball</th>\n      <th>Washing Machine</th>\n      <th>Water Slide</th>\n      <th>Wheelchair Accessible</th>\n      <th>WiFi (Public Areas)</th>\n      <th>WiFi (Rooms)</th>\n    </tr>\n  </thead>\n  <tbody>\n    <tr>\n      <th>0</th>\n      <td>5001</td>\n      <td>0</td>\n      <td>0</td>\n      <td>0</td>\n      <td>1</td>\n      <td>0</td>\n      <td>0</td>\n      <td>0</td>\n      <td>0</td>\n      <td>0</td>\n      <td>...</td>\n      <td>1</td>\n      <td>0</td>\n      <td>0</td>\n      <td>0</td>\n      <td>0</td>\n      <td>0</td>\n      <td>0</td>\n      <td>0</td>\n      <td>1</td>\n      <td>1</td>\n    </tr>\n    <tr>\n      <th>1</th>\n      <td>5002</td>\n      <td>0</td>\n      <td>0</td>\n      <td>0</td>\n      <td>1</td>\n      <td>0</td>\n      <td>0</td>\n      <td>0</td>\n      <td>0</td>\n      <td>1</td>\n      <td>...</td>\n      <td>0</td>\n      <td>0</td>\n      <td>0</td>\n      <td>0</td>\n      <td>0</td>\n      <td>0</td>\n      <td>0</td>\n      <td>0</td>\n      <td>1</td>\n      <td>1</td>\n    </tr>\n    <tr>\n      <th>2</th>\n      <td>5003</td>\n      <td>0</td>\n      <td>0</td>\n      <td>0</td>\n      <td>1</td>\n      <td>0</td>\n      <td>1</td>\n      <td>0</td>\n      <td>0</td>\n      <td>1</td>\n      <td>...</td>\n      <td>1</td>\n      <td>0</td>\n      <td>1</td>\n      <td>1</td>\n      <td>0</td>\n      <td>0</td>\n      <td>0</td>\n      <td>1</td>\n      <td>1</td>\n      <td>1</td>\n    </tr>\n    <tr>\n      <th>3</th>\n      <td>5004</td>\n      <td>0</td>\n      <td>0</td>\n      <td>0</td>\n      <td>1</td>\n      <td>0</td>\n      <td>0</td>\n      <td>0</td>\n      <td>0</td>\n      <td>0</td>\n      <td>...</td>\n      <td>1</td>\n      <td>0</td>\n      <td>0</td>\n      <td>1</td>\n      <td>0</td>\n      <td>0</td>\n      <td>0</td>\n      <td>1</td>\n      <td>1</td>\n      <td>1</td>\n    </tr>\n    <tr>\n      <th>4</th>\n      <td>5005</td>\n      <td>0</td>\n      <td>0</td>\n      <td>1</td>\n      <td>0</td>\n      <td>0</td>\n      <td>0</td>\n      <td>0</td>\n      <td>0</td>\n      <td>0</td>\n      <td>...</td>\n      <td>1</td>\n      <td>0</td>\n      <td>0</td>\n      <td>1</td>\n      <td>0</td>\n      <td>0</td>\n      <td>0</td>\n      <td>0</td>\n      <td>0</td>\n      <td>0</td>\n    </tr>\n  </tbody>\n</table>\n<p>5 rows × 158 columns</p>\n</div>"
     },
     "execution_count": 5,
     "metadata": {},
     "output_type": "execute_result"
    }
   ],
   "source": [
    "metadata_data = utils.process_attributes(metadata_data)\n",
    "\n",
    "metadata_data.head(5)"
   ],
   "metadata": {
    "collapsed": false,
    "pycharm": {
     "name": "#%%\n"
    }
   }
  },
  {
   "cell_type": "markdown",
   "source": [
    "## Create data to user lattice"
   ],
   "metadata": {
    "collapsed": false
   }
  },
  {
   "cell_type": "markdown",
   "source": [
    "#### Obtain different users"
   ],
   "metadata": {
    "collapsed": false
   }
  },
  {
   "cell_type": "code",
   "execution_count": 6,
   "outputs": [
    {
     "data": {
      "text/plain": "7308"
     },
     "execution_count": 6,
     "metadata": {},
     "output_type": "execute_result"
    }
   ],
   "source": [
    "users = train_data[\"user_id\"].unique().tolist()\n",
    "len(users)\n",
    "\n",
    "# only a hundredth to test\n",
    "users = users[:int(len(users) * 0.01)]\n",
    "\n",
    "len(users)"
   ],
   "metadata": {
    "collapsed": false,
    "pycharm": {
     "name": "#%%\n"
    }
   }
  },
  {
   "cell_type": "markdown",
   "source": [
    "#### Obtain different Hotels"
   ],
   "metadata": {
    "collapsed": false
   }
  },
  {
   "cell_type": "code",
   "execution_count": 12,
   "outputs": [
    {
     "data": {
      "text/plain": "927142"
     },
     "execution_count": 12,
     "metadata": {},
     "output_type": "execute_result"
    }
   ],
   "source": [
    "hotels = metadata_data[\"item_id\"].tolist()\n",
    "\n",
    "# only a hundredth to test\n",
    "#hotels = hotels[:int(len(hotels) * 0.01)]\n",
    "\n",
    "len(hotels)"
   ],
   "metadata": {
    "collapsed": false,
    "pycharm": {
     "name": "#%%\n"
    }
   }
  },
  {
   "cell_type": "markdown",
   "source": [
    "#### Create the relation matrix"
   ],
   "metadata": {
    "collapsed": false
   }
  },
  {
   "cell_type": "code",
   "execution_count": 13,
   "outputs": [
    {
     "name": "stdout",
     "output_type": "stream",
     "text": [
      "0\n",
      "100\n",
      "200\n",
      "300\n",
      "400\n",
      "500\n",
      "600\n",
      "700\n",
      "800\n",
      "900\n",
      "1000\n",
      "1100\n",
      "1200\n",
      "1300\n",
      "1400\n",
      "1500\n",
      "1600\n",
      "1700\n",
      "1800\n",
      "1900\n",
      "2000\n",
      "2100\n",
      "2200\n",
      "2300\n",
      "2400\n",
      "2500\n",
      "2600\n",
      "2700\n",
      "2800\n",
      "2900\n",
      "3000\n",
      "3100\n",
      "3200\n",
      "3300\n",
      "3400\n",
      "3500\n",
      "3600\n",
      "3700\n",
      "3800\n",
      "3900\n",
      "4000\n",
      "4100\n",
      "4200\n",
      "4300\n",
      "4400\n",
      "4500\n",
      "4600\n",
      "4700\n",
      "4800\n",
      "4900\n",
      "5000\n",
      "5100\n",
      "5200\n",
      "5300\n",
      "5400\n",
      "5500\n",
      "5600\n",
      "5700\n",
      "5800\n",
      "5900\n",
      "6000\n",
      "6100\n",
      "6200\n",
      "6300\n",
      "6400\n",
      "6500\n",
      "6600\n",
      "6700\n",
      "6800\n",
      "6900\n",
      "7000\n",
      "7100\n",
      "7200\n",
      "7300\n"
     ]
    }
   ],
   "source": [
    "path = f'../ProcessedData/metadata/user_lattice'\n",
    "\n",
    "os.makedirs(path, exist_ok=True)\n",
    "\n",
    "with open(f'{path}/user_lattice-relations.csv', 'w') as f:\n",
    "    write = csv.writer(f, lineterminator='\\n')\n",
    "    for user in users:\n",
    "\n",
    "        user_actions = train_data[train_data[\"user_id\"] == user]\n",
    "        clicked_elements = user_actions[user_actions[\"reference\"].str.isnumeric()][\"reference\"].tolist()\n",
    "\n",
    "        # Array with ids that will be 1\n",
    "        user_relation_ids = Parallel(n_jobs=10)(\n",
    "            delayed(lambda elem: hotels.index(int(elem)) if int(elem) in hotels else None)(clicked_element) for\n",
    "            clicked_element in clicked_elements)\n",
    "\n",
    "        user_relation_ids = set(filter(None, user_relation_ids))\n",
    "\n",
    "        if users.index(user) % 100 == 0:\n",
    "            print(users.index(user))\n",
    "\n",
    "        write.writerow(user_relation_ids)"
   ],
   "metadata": {
    "collapsed": false,
    "pycharm": {
     "name": "#%%\n"
    }
   }
  },
  {
   "cell_type": "code",
   "execution_count": 14,
   "outputs": [],
   "source": [
    "with open(f'{path}/user_lattice-objects.csv', 'w') as f:\n",
    "    write = csv.writer(f, lineterminator='\\n')\n",
    "    write.writerow(users)"
   ],
   "metadata": {
    "collapsed": false,
    "pycharm": {
     "name": "#%%\n"
    }
   }
  },
  {
   "cell_type": "code",
   "execution_count": 15,
   "outputs": [],
   "source": [
    "with open(f'{path}/user_lattice-attributes.csv', 'w') as f:\n",
    "    write = csv.writer(f, lineterminator='\\n')\n",
    "    write.writerow(hotels)"
   ],
   "metadata": {
    "collapsed": false,
    "pycharm": {
     "name": "#%%\n"
    }
   }
  }
 ],
 "metadata": {
  "kernelspec": {
   "display_name": "Python 3",
   "language": "python",
   "name": "python3"
  },
  "language_info": {
   "codemirror_mode": {
    "name": "ipython",
    "version": 2
   },
   "file_extension": ".py",
   "mimetype": "text/x-python",
   "name": "python",
   "nbconvert_exporter": "python",
   "pygments_lexer": "ipython2",
   "version": "2.7.6"
  }
 },
 "nbformat": 4,
 "nbformat_minor": 0
}